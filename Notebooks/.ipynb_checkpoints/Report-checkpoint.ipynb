{
 "cells": [
  {
   "cell_type": "markdown",
   "metadata": {},
   "source": [
    "# <center> Bikeshare Analysis </center>\n",
    "<center> ANLT 210 Software Methods </center>\n",
    "\n",
    "<center> Jenny Khanh </center>\n",
    "\n",
    "### Table of Contents\n",
    "1. [Objective](#objective)\n",
    "1. [Cleaning data](#clean)\n",
    "1. [Linear Model](#linear)\n",
    "1. [Naive Bayes](#bayes)\n",
    "1. [Conclusion](#conclusion)"
   ]
  },
  {
   "cell_type": "markdown",
   "metadata": {},
   "source": [
    "<a id=\"objective\"></a>\n",
    "## Objective\n",
    "\n",
    "This Bikeshare data set consit"
   ]
  }
 ],
 "metadata": {
  "kernelspec": {
   "display_name": "Python 3",
   "language": "python",
   "name": "python3"
  },
  "language_info": {
   "codemirror_mode": {
    "name": "ipython",
    "version": 3
   },
   "file_extension": ".py",
   "mimetype": "text/x-python",
   "name": "python",
   "nbconvert_exporter": "python",
   "pygments_lexer": "ipython3",
   "version": "3.7.3"
  }
 },
 "nbformat": 4,
 "nbformat_minor": 2
}
