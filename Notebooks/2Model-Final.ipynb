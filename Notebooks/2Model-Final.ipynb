{
 "cells": [
  {
   "cell_type": "markdown",
   "metadata": {},
   "source": [
    "# Using simple Deep Neural Network to predict Count of total rental bikes"
   ]
  },
  {
   "cell_type": "markdown",
   "metadata": {},
   "source": [
    "### Cleanning Data/Preprocessing\n",
    "During EDA, there weren't any Na's in the data set, but there were categorical data that should be converted to dummies. The 'cleanningData' function will get dummies for the categorical features. The categorical features are actually type 'int64' in this data set."
   ]
  },
  {
   "cell_type": "code",
   "execution_count": 1,
   "metadata": {},
   "outputs": [
    {
     "name": "stderr",
     "output_type": "stream",
     "text": [
      "Using TensorFlow backend.\n"
     ]
    }
   ],
   "source": [
    "import pandas as pd\n",
    "import numpy as np\n",
    "import matplotlib.pyplot as plt\n",
    "\n",
    "# to classify features\n",
    "from sklearn.ensemble import ExtraTreesClassifier\n",
    "from sklearn.datasets import make_classification\n",
    "\n",
    "# split data, need to redo this part with stratified split!!\n",
    "from sklearn.model_selection import train_test_split\n",
    "from sklearn.preprocessing import StandardScaler, MinMaxScaler\n",
    "\n",
    "# DNN\n",
    "import keras\n",
    "from keras.models import Sequential\n",
    "from keras.layers import Dense, Dropout\n",
    "from keras.optimizers import RMSprop"
   ]
  },
  {
   "cell_type": "markdown",
   "metadata": {},
   "source": [
    "## Daily Data Set"
   ]
  },
  {
   "cell_type": "code",
   "execution_count": 23,
   "metadata": {},
   "outputs": [],
   "source": [
    "dailyData = pd.read_csv('C:/Users/Jenny/Desktop/UOP-MSDS/2020Spring/ANLT_210_SoftwareMethods/Bikeshare/Data/daily.csv')"
   ]
  },
  {
   "cell_type": "code",
   "execution_count": 24,
   "metadata": {},
   "outputs": [
    {
     "data": {
      "text/html": [
       "<div>\n",
       "<style scoped>\n",
       "    .dataframe tbody tr th:only-of-type {\n",
       "        vertical-align: middle;\n",
       "    }\n",
       "\n",
       "    .dataframe tbody tr th {\n",
       "        vertical-align: top;\n",
       "    }\n",
       "\n",
       "    .dataframe thead th {\n",
       "        text-align: right;\n",
       "    }\n",
       "</style>\n",
       "<table border=\"1\" class=\"dataframe\">\n",
       "  <thead>\n",
       "    <tr style=\"text-align: right;\">\n",
       "      <th></th>\n",
       "      <th>instant</th>\n",
       "      <th>dteday</th>\n",
       "      <th>season</th>\n",
       "      <th>yr</th>\n",
       "      <th>mnth</th>\n",
       "      <th>holiday</th>\n",
       "      <th>weekday</th>\n",
       "      <th>workingday</th>\n",
       "      <th>weathersit</th>\n",
       "      <th>temp</th>\n",
       "      <th>atemp</th>\n",
       "      <th>hum</th>\n",
       "      <th>windspeed</th>\n",
       "      <th>casual</th>\n",
       "      <th>registered</th>\n",
       "      <th>cnt</th>\n",
       "    </tr>\n",
       "  </thead>\n",
       "  <tbody>\n",
       "    <tr>\n",
       "      <th>0</th>\n",
       "      <td>1</td>\n",
       "      <td>2011-01-01</td>\n",
       "      <td>1</td>\n",
       "      <td>0</td>\n",
       "      <td>1</td>\n",
       "      <td>0</td>\n",
       "      <td>6</td>\n",
       "      <td>0</td>\n",
       "      <td>2</td>\n",
       "      <td>0.344167</td>\n",
       "      <td>0.363625</td>\n",
       "      <td>0.805833</td>\n",
       "      <td>0.160446</td>\n",
       "      <td>331</td>\n",
       "      <td>654</td>\n",
       "      <td>985</td>\n",
       "    </tr>\n",
       "    <tr>\n",
       "      <th>1</th>\n",
       "      <td>2</td>\n",
       "      <td>2011-01-02</td>\n",
       "      <td>1</td>\n",
       "      <td>0</td>\n",
       "      <td>1</td>\n",
       "      <td>0</td>\n",
       "      <td>0</td>\n",
       "      <td>0</td>\n",
       "      <td>2</td>\n",
       "      <td>0.363478</td>\n",
       "      <td>0.353739</td>\n",
       "      <td>0.696087</td>\n",
       "      <td>0.248539</td>\n",
       "      <td>131</td>\n",
       "      <td>670</td>\n",
       "      <td>801</td>\n",
       "    </tr>\n",
       "    <tr>\n",
       "      <th>2</th>\n",
       "      <td>3</td>\n",
       "      <td>2011-01-03</td>\n",
       "      <td>1</td>\n",
       "      <td>0</td>\n",
       "      <td>1</td>\n",
       "      <td>0</td>\n",
       "      <td>1</td>\n",
       "      <td>1</td>\n",
       "      <td>1</td>\n",
       "      <td>0.196364</td>\n",
       "      <td>0.189405</td>\n",
       "      <td>0.437273</td>\n",
       "      <td>0.248309</td>\n",
       "      <td>120</td>\n",
       "      <td>1229</td>\n",
       "      <td>1349</td>\n",
       "    </tr>\n",
       "    <tr>\n",
       "      <th>3</th>\n",
       "      <td>4</td>\n",
       "      <td>2011-01-04</td>\n",
       "      <td>1</td>\n",
       "      <td>0</td>\n",
       "      <td>1</td>\n",
       "      <td>0</td>\n",
       "      <td>2</td>\n",
       "      <td>1</td>\n",
       "      <td>1</td>\n",
       "      <td>0.200000</td>\n",
       "      <td>0.212122</td>\n",
       "      <td>0.590435</td>\n",
       "      <td>0.160296</td>\n",
       "      <td>108</td>\n",
       "      <td>1454</td>\n",
       "      <td>1562</td>\n",
       "    </tr>\n",
       "    <tr>\n",
       "      <th>4</th>\n",
       "      <td>5</td>\n",
       "      <td>2011-01-05</td>\n",
       "      <td>1</td>\n",
       "      <td>0</td>\n",
       "      <td>1</td>\n",
       "      <td>0</td>\n",
       "      <td>3</td>\n",
       "      <td>1</td>\n",
       "      <td>1</td>\n",
       "      <td>0.226957</td>\n",
       "      <td>0.229270</td>\n",
       "      <td>0.436957</td>\n",
       "      <td>0.186900</td>\n",
       "      <td>82</td>\n",
       "      <td>1518</td>\n",
       "      <td>1600</td>\n",
       "    </tr>\n",
       "  </tbody>\n",
       "</table>\n",
       "</div>"
      ],
      "text/plain": [
       "   instant      dteday  season  yr  mnth  holiday  weekday  workingday  \\\n",
       "0        1  2011-01-01       1   0     1        0        6           0   \n",
       "1        2  2011-01-02       1   0     1        0        0           0   \n",
       "2        3  2011-01-03       1   0     1        0        1           1   \n",
       "3        4  2011-01-04       1   0     1        0        2           1   \n",
       "4        5  2011-01-05       1   0     1        0        3           1   \n",
       "\n",
       "   weathersit      temp     atemp       hum  windspeed  casual  registered  \\\n",
       "0           2  0.344167  0.363625  0.805833   0.160446     331         654   \n",
       "1           2  0.363478  0.353739  0.696087   0.248539     131         670   \n",
       "2           1  0.196364  0.189405  0.437273   0.248309     120        1229   \n",
       "3           1  0.200000  0.212122  0.590435   0.160296     108        1454   \n",
       "4           1  0.226957  0.229270  0.436957   0.186900      82        1518   \n",
       "\n",
       "    cnt  \n",
       "0   985  \n",
       "1   801  \n",
       "2  1349  \n",
       "3  1562  \n",
       "4  1600  "
      ]
     },
     "execution_count": 24,
     "metadata": {},
     "output_type": "execute_result"
    }
   ],
   "source": [
    "dailyData.head()"
   ]
  },
  {
   "cell_type": "code",
   "execution_count": 25,
   "metadata": {},
   "outputs": [
    {
     "data": {
      "text/plain": [
       "instant         int64\n",
       "dteday         object\n",
       "season          int64\n",
       "yr              int64\n",
       "mnth            int64\n",
       "holiday         int64\n",
       "weekday         int64\n",
       "workingday      int64\n",
       "weathersit      int64\n",
       "temp          float64\n",
       "atemp         float64\n",
       "hum           float64\n",
       "windspeed     float64\n",
       "casual          int64\n",
       "registered      int64\n",
       "cnt             int64\n",
       "dtype: object"
      ]
     },
     "execution_count": 25,
     "metadata": {},
     "output_type": "execute_result"
    }
   ],
   "source": [
    "dailyData.dtypes"
   ]
  },
  {
   "cell_type": "markdown",
   "metadata": {},
   "source": [
    "Same as in the EDA phase, we will remove features that aren't needed and repeative."
   ]
  },
  {
   "cell_type": "code",
   "execution_count": 26,
   "metadata": {},
   "outputs": [],
   "source": [
    "dailyData2 = dailyData.drop([  ], axis = 1)"
   ]
  },
  {
   "cell_type": "code",
   "execution_count": 2,
   "metadata": {},
   "outputs": [],
   "source": [
    "def cleaningData(df):\n",
    "    # taking out 'cnt', we don't want to get dummies for 'cnt'\n",
    "    dataset = df.drop(['cnt'], axis = 1)\n",
    "    \n",
    "    # making a list of possible categorical features\n",
    "    possibleCate = []\n",
    "    for i in range(len(dataset.columns)):\n",
    "        if dataset.dtypes[i] == 'int64':\n",
    "            possibleCate.append(dataset.columns[i])\n",
    "            \n",
    "    #get dummies for categorical features\n",
    "    for cat in possibleCate:\n",
    "        dataset = pd.concat([dataset, pd.get_dummies(dataset[cat], prefix = cat, dummy_na = False)], axis = 1)\n",
    "        dataset = dataset.drop(cat, axis = 1)\n",
    "    \n",
    "    # adding 'cnt' back into the data set\n",
    "    dataset = pd.concat([dataset, df['cnt']], axis = 1)\n",
    "    \n",
    "    return dataset\n",
    "    #print(possibleCate)"
   ]
  },
  {
   "cell_type": "code",
   "execution_count": 27,
   "metadata": {},
   "outputs": [],
   "source": [
    "dailyCate = cleaningData(dailyData2)"
   ]
  },
  {
   "cell_type": "code",
   "execution_count": 28,
   "metadata": {},
   "outputs": [
    {
     "data": {
      "text/html": [
       "<div>\n",
       "<style scoped>\n",
       "    .dataframe tbody tr th:only-of-type {\n",
       "        vertical-align: middle;\n",
       "    }\n",
       "\n",
       "    .dataframe tbody tr th {\n",
       "        vertical-align: top;\n",
       "    }\n",
       "\n",
       "    .dataframe thead th {\n",
       "        text-align: right;\n",
       "    }\n",
       "</style>\n",
       "<table border=\"1\" class=\"dataframe\">\n",
       "  <thead>\n",
       "    <tr style=\"text-align: right;\">\n",
       "      <th></th>\n",
       "      <th>temp</th>\n",
       "      <th>atemp</th>\n",
       "      <th>hum</th>\n",
       "      <th>windspeed</th>\n",
       "      <th>season_1</th>\n",
       "      <th>season_2</th>\n",
       "      <th>season_3</th>\n",
       "      <th>season_4</th>\n",
       "      <th>yr_0</th>\n",
       "      <th>yr_1</th>\n",
       "      <th>...</th>\n",
       "      <th>weekday_3</th>\n",
       "      <th>weekday_4</th>\n",
       "      <th>weekday_5</th>\n",
       "      <th>weekday_6</th>\n",
       "      <th>workingday_0</th>\n",
       "      <th>workingday_1</th>\n",
       "      <th>weathersit_1</th>\n",
       "      <th>weathersit_2</th>\n",
       "      <th>weathersit_3</th>\n",
       "      <th>cnt</th>\n",
       "    </tr>\n",
       "  </thead>\n",
       "  <tbody>\n",
       "    <tr>\n",
       "      <th>0</th>\n",
       "      <td>0.344167</td>\n",
       "      <td>0.363625</td>\n",
       "      <td>0.805833</td>\n",
       "      <td>0.160446</td>\n",
       "      <td>1</td>\n",
       "      <td>0</td>\n",
       "      <td>0</td>\n",
       "      <td>0</td>\n",
       "      <td>1</td>\n",
       "      <td>0</td>\n",
       "      <td>...</td>\n",
       "      <td>0</td>\n",
       "      <td>0</td>\n",
       "      <td>0</td>\n",
       "      <td>1</td>\n",
       "      <td>1</td>\n",
       "      <td>0</td>\n",
       "      <td>0</td>\n",
       "      <td>1</td>\n",
       "      <td>0</td>\n",
       "      <td>985</td>\n",
       "    </tr>\n",
       "    <tr>\n",
       "      <th>1</th>\n",
       "      <td>0.363478</td>\n",
       "      <td>0.353739</td>\n",
       "      <td>0.696087</td>\n",
       "      <td>0.248539</td>\n",
       "      <td>1</td>\n",
       "      <td>0</td>\n",
       "      <td>0</td>\n",
       "      <td>0</td>\n",
       "      <td>1</td>\n",
       "      <td>0</td>\n",
       "      <td>...</td>\n",
       "      <td>0</td>\n",
       "      <td>0</td>\n",
       "      <td>0</td>\n",
       "      <td>0</td>\n",
       "      <td>1</td>\n",
       "      <td>0</td>\n",
       "      <td>0</td>\n",
       "      <td>1</td>\n",
       "      <td>0</td>\n",
       "      <td>801</td>\n",
       "    </tr>\n",
       "    <tr>\n",
       "      <th>2</th>\n",
       "      <td>0.196364</td>\n",
       "      <td>0.189405</td>\n",
       "      <td>0.437273</td>\n",
       "      <td>0.248309</td>\n",
       "      <td>1</td>\n",
       "      <td>0</td>\n",
       "      <td>0</td>\n",
       "      <td>0</td>\n",
       "      <td>1</td>\n",
       "      <td>0</td>\n",
       "      <td>...</td>\n",
       "      <td>0</td>\n",
       "      <td>0</td>\n",
       "      <td>0</td>\n",
       "      <td>0</td>\n",
       "      <td>0</td>\n",
       "      <td>1</td>\n",
       "      <td>1</td>\n",
       "      <td>0</td>\n",
       "      <td>0</td>\n",
       "      <td>1349</td>\n",
       "    </tr>\n",
       "    <tr>\n",
       "      <th>3</th>\n",
       "      <td>0.200000</td>\n",
       "      <td>0.212122</td>\n",
       "      <td>0.590435</td>\n",
       "      <td>0.160296</td>\n",
       "      <td>1</td>\n",
       "      <td>0</td>\n",
       "      <td>0</td>\n",
       "      <td>0</td>\n",
       "      <td>1</td>\n",
       "      <td>0</td>\n",
       "      <td>...</td>\n",
       "      <td>0</td>\n",
       "      <td>0</td>\n",
       "      <td>0</td>\n",
       "      <td>0</td>\n",
       "      <td>0</td>\n",
       "      <td>1</td>\n",
       "      <td>1</td>\n",
       "      <td>0</td>\n",
       "      <td>0</td>\n",
       "      <td>1562</td>\n",
       "    </tr>\n",
       "    <tr>\n",
       "      <th>4</th>\n",
       "      <td>0.226957</td>\n",
       "      <td>0.229270</td>\n",
       "      <td>0.436957</td>\n",
       "      <td>0.186900</td>\n",
       "      <td>1</td>\n",
       "      <td>0</td>\n",
       "      <td>0</td>\n",
       "      <td>0</td>\n",
       "      <td>1</td>\n",
       "      <td>0</td>\n",
       "      <td>...</td>\n",
       "      <td>1</td>\n",
       "      <td>0</td>\n",
       "      <td>0</td>\n",
       "      <td>0</td>\n",
       "      <td>0</td>\n",
       "      <td>1</td>\n",
       "      <td>1</td>\n",
       "      <td>0</td>\n",
       "      <td>0</td>\n",
       "      <td>1600</td>\n",
       "    </tr>\n",
       "  </tbody>\n",
       "</table>\n",
       "<p>5 rows × 37 columns</p>\n",
       "</div>"
      ],
      "text/plain": [
       "       temp     atemp       hum  windspeed  season_1  season_2  season_3  \\\n",
       "0  0.344167  0.363625  0.805833   0.160446         1         0         0   \n",
       "1  0.363478  0.353739  0.696087   0.248539         1         0         0   \n",
       "2  0.196364  0.189405  0.437273   0.248309         1         0         0   \n",
       "3  0.200000  0.212122  0.590435   0.160296         1         0         0   \n",
       "4  0.226957  0.229270  0.436957   0.186900         1         0         0   \n",
       "\n",
       "   season_4  yr_0  yr_1  ...  weekday_3  weekday_4  weekday_5  weekday_6  \\\n",
       "0         0     1     0  ...          0          0          0          1   \n",
       "1         0     1     0  ...          0          0          0          0   \n",
       "2         0     1     0  ...          0          0          0          0   \n",
       "3         0     1     0  ...          0          0          0          0   \n",
       "4         0     1     0  ...          1          0          0          0   \n",
       "\n",
       "   workingday_0  workingday_1  weathersit_1  weathersit_2  weathersit_3   cnt  \n",
       "0             1             0             0             1             0   985  \n",
       "1             1             0             0             1             0   801  \n",
       "2             0             1             1             0             0  1349  \n",
       "3             0             1             1             0             0  1562  \n",
       "4             0             1             1             0             0  1600  \n",
       "\n",
       "[5 rows x 37 columns]"
      ]
     },
     "execution_count": 28,
     "metadata": {},
     "output_type": "execute_result"
    }
   ],
   "source": [
    "dailyCate.head()"
   ]
  },
  {
   "cell_type": "code",
   "execution_count": 29,
   "metadata": {},
   "outputs": [
    {
     "data": {
      "text/plain": [
       "(731, 37)"
      ]
     },
     "execution_count": 29,
     "metadata": {},
     "output_type": "execute_result"
    }
   ],
   "source": [
    "dailyCate.shape"
   ]
  },
  {
   "cell_type": "markdown",
   "metadata": {},
   "source": [
    "### Feature selection\n",
    "\n",
    "Using sklearn's ExtraTreesClassifier to determine which features to extract."
   ]
  },
  {
   "cell_type": "code",
   "execution_count": 3,
   "metadata": {},
   "outputs": [],
   "source": [
    "def featureSelect(dataset, n):\n",
    "    # splitting X (features) and y (output) to be used in ExtraTreesClassifier\n",
    "    X = dataset.drop(['cnt'], axis = 1)\n",
    "    y = dataset['cnt']\n",
    "\n",
    "    # bulid the model\n",
    "    extra_tree_forest = ExtraTreesClassifier(n_estimators = 10,\n",
    "                                             criterion = 'gini')\n",
    "\n",
    "    # train the model\n",
    "    extra_tree_forest.fit(X, y)\n",
    "\n",
    "    # compute importance of each feature\n",
    "    feature_importance = extra_tree_forest.feature_importances_\n",
    "\n",
    "    # Normalizing the individual importances \n",
    "    feature_importance_normalized = np.std([tree.feature_importances_ for tree in \n",
    "                                            extra_tree_forest.estimators_], \n",
    "                                            axis = 0)\n",
    "\n",
    "    # sort orderFeat from greatest to least\n",
    "    orderFeat = np.argsort(-feature_importance_normalized)\n",
    "\n",
    "    # top n features\n",
    "    featUsed = []\n",
    "    for i in range(n):\n",
    "        featUsed.append(X.columns[orderFeat[i]])\n",
    "        \n",
    "    xFeat = pd.DataFrame(dataset[featUsed])\n",
    "\n",
    "    return xFeat, y"
   ]
  },
  {
   "cell_type": "code",
   "execution_count": 30,
   "metadata": {},
   "outputs": [],
   "source": [
    "xfeat, y =  featureSelect(dailyCate, 10)"
   ]
  },
  {
   "cell_type": "code",
   "execution_count": 31,
   "metadata": {},
   "outputs": [
    {
     "data": {
      "text/html": [
       "<div>\n",
       "<style scoped>\n",
       "    .dataframe tbody tr th:only-of-type {\n",
       "        vertical-align: middle;\n",
       "    }\n",
       "\n",
       "    .dataframe tbody tr th {\n",
       "        vertical-align: top;\n",
       "    }\n",
       "\n",
       "    .dataframe thead th {\n",
       "        text-align: right;\n",
       "    }\n",
       "</style>\n",
       "<table border=\"1\" class=\"dataframe\">\n",
       "  <thead>\n",
       "    <tr style=\"text-align: right;\">\n",
       "      <th></th>\n",
       "      <th>atemp</th>\n",
       "      <th>hum</th>\n",
       "      <th>mnth_3</th>\n",
       "      <th>windspeed</th>\n",
       "      <th>weekday_4</th>\n",
       "      <th>temp</th>\n",
       "      <th>yr_1</th>\n",
       "      <th>weekday_5</th>\n",
       "      <th>weathersit_2</th>\n",
       "      <th>weekday_2</th>\n",
       "    </tr>\n",
       "  </thead>\n",
       "  <tbody>\n",
       "    <tr>\n",
       "      <th>0</th>\n",
       "      <td>0.363625</td>\n",
       "      <td>0.805833</td>\n",
       "      <td>0</td>\n",
       "      <td>0.160446</td>\n",
       "      <td>0</td>\n",
       "      <td>0.344167</td>\n",
       "      <td>0</td>\n",
       "      <td>0</td>\n",
       "      <td>1</td>\n",
       "      <td>0</td>\n",
       "    </tr>\n",
       "    <tr>\n",
       "      <th>1</th>\n",
       "      <td>0.353739</td>\n",
       "      <td>0.696087</td>\n",
       "      <td>0</td>\n",
       "      <td>0.248539</td>\n",
       "      <td>0</td>\n",
       "      <td>0.363478</td>\n",
       "      <td>0</td>\n",
       "      <td>0</td>\n",
       "      <td>1</td>\n",
       "      <td>0</td>\n",
       "    </tr>\n",
       "    <tr>\n",
       "      <th>2</th>\n",
       "      <td>0.189405</td>\n",
       "      <td>0.437273</td>\n",
       "      <td>0</td>\n",
       "      <td>0.248309</td>\n",
       "      <td>0</td>\n",
       "      <td>0.196364</td>\n",
       "      <td>0</td>\n",
       "      <td>0</td>\n",
       "      <td>0</td>\n",
       "      <td>0</td>\n",
       "    </tr>\n",
       "    <tr>\n",
       "      <th>3</th>\n",
       "      <td>0.212122</td>\n",
       "      <td>0.590435</td>\n",
       "      <td>0</td>\n",
       "      <td>0.160296</td>\n",
       "      <td>0</td>\n",
       "      <td>0.200000</td>\n",
       "      <td>0</td>\n",
       "      <td>0</td>\n",
       "      <td>0</td>\n",
       "      <td>1</td>\n",
       "    </tr>\n",
       "    <tr>\n",
       "      <th>4</th>\n",
       "      <td>0.229270</td>\n",
       "      <td>0.436957</td>\n",
       "      <td>0</td>\n",
       "      <td>0.186900</td>\n",
       "      <td>0</td>\n",
       "      <td>0.226957</td>\n",
       "      <td>0</td>\n",
       "      <td>0</td>\n",
       "      <td>0</td>\n",
       "      <td>0</td>\n",
       "    </tr>\n",
       "  </tbody>\n",
       "</table>\n",
       "</div>"
      ],
      "text/plain": [
       "      atemp       hum  mnth_3  windspeed  weekday_4      temp  yr_1  \\\n",
       "0  0.363625  0.805833       0   0.160446          0  0.344167     0   \n",
       "1  0.353739  0.696087       0   0.248539          0  0.363478     0   \n",
       "2  0.189405  0.437273       0   0.248309          0  0.196364     0   \n",
       "3  0.212122  0.590435       0   0.160296          0  0.200000     0   \n",
       "4  0.229270  0.436957       0   0.186900          0  0.226957     0   \n",
       "\n",
       "   weekday_5  weathersit_2  weekday_2  \n",
       "0          0             1          0  \n",
       "1          0             1          0  \n",
       "2          0             0          0  \n",
       "3          0             0          1  \n",
       "4          0             0          0  "
      ]
     },
     "execution_count": 31,
     "metadata": {},
     "output_type": "execute_result"
    }
   ],
   "source": [
    "xfeat.head()"
   ]
  },
  {
   "cell_type": "markdown",
   "metadata": {},
   "source": [
    "### Split and normalize the data\n",
    "The data set is normalized using StandardScaler from sklearns. The split will be 80% for train and 20% for test."
   ]
  },
  {
   "cell_type": "code",
   "execution_count": 32,
   "metadata": {},
   "outputs": [],
   "source": [
    "df = pd.concat([xfeat, y], axis = 1)"
   ]
  },
  {
   "cell_type": "code",
   "execution_count": 33,
   "metadata": {},
   "outputs": [
    {
     "data": {
      "text/plain": [
       "(731, 11)"
      ]
     },
     "execution_count": 33,
     "metadata": {},
     "output_type": "execute_result"
    }
   ],
   "source": [
    "df.shape"
   ]
  },
  {
   "cell_type": "code",
   "execution_count": 34,
   "metadata": {},
   "outputs": [],
   "source": [
    "# normalize\n",
    "sc = MinMaxScaler(feature_range=(0, 1))\n",
    "df2 = pd.DataFrame(sc.fit_transform(df))"
   ]
  },
  {
   "cell_type": "code",
   "execution_count": 35,
   "metadata": {},
   "outputs": [],
   "source": [
    "df2.columns = df.columns"
   ]
  },
  {
   "cell_type": "code",
   "execution_count": 36,
   "metadata": {},
   "outputs": [
    {
     "data": {
      "text/html": [
       "<div>\n",
       "<style scoped>\n",
       "    .dataframe tbody tr th:only-of-type {\n",
       "        vertical-align: middle;\n",
       "    }\n",
       "\n",
       "    .dataframe tbody tr th {\n",
       "        vertical-align: top;\n",
       "    }\n",
       "\n",
       "    .dataframe thead th {\n",
       "        text-align: right;\n",
       "    }\n",
       "</style>\n",
       "<table border=\"1\" class=\"dataframe\">\n",
       "  <thead>\n",
       "    <tr style=\"text-align: right;\">\n",
       "      <th></th>\n",
       "      <th>atemp</th>\n",
       "      <th>hum</th>\n",
       "      <th>mnth_3</th>\n",
       "      <th>windspeed</th>\n",
       "      <th>weekday_4</th>\n",
       "      <th>temp</th>\n",
       "      <th>yr_1</th>\n",
       "      <th>weekday_5</th>\n",
       "      <th>weathersit_2</th>\n",
       "      <th>weekday_2</th>\n",
       "      <th>cnt</th>\n",
       "    </tr>\n",
       "  </thead>\n",
       "  <tbody>\n",
       "    <tr>\n",
       "      <th>0</th>\n",
       "      <td>0.373517</td>\n",
       "      <td>0.828620</td>\n",
       "      <td>0.0</td>\n",
       "      <td>0.284606</td>\n",
       "      <td>0.0</td>\n",
       "      <td>0.355170</td>\n",
       "      <td>0.0</td>\n",
       "      <td>0.0</td>\n",
       "      <td>1.0</td>\n",
       "      <td>0.0</td>\n",
       "      <td>0.110792</td>\n",
       "    </tr>\n",
       "    <tr>\n",
       "      <th>1</th>\n",
       "      <td>0.360541</td>\n",
       "      <td>0.715771</td>\n",
       "      <td>0.0</td>\n",
       "      <td>0.466215</td>\n",
       "      <td>0.0</td>\n",
       "      <td>0.379232</td>\n",
       "      <td>0.0</td>\n",
       "      <td>0.0</td>\n",
       "      <td>1.0</td>\n",
       "      <td>0.0</td>\n",
       "      <td>0.089623</td>\n",
       "    </tr>\n",
       "    <tr>\n",
       "      <th>2</th>\n",
       "      <td>0.144830</td>\n",
       "      <td>0.449638</td>\n",
       "      <td>0.0</td>\n",
       "      <td>0.465740</td>\n",
       "      <td>0.0</td>\n",
       "      <td>0.171000</td>\n",
       "      <td>0.0</td>\n",
       "      <td>0.0</td>\n",
       "      <td>0.0</td>\n",
       "      <td>0.0</td>\n",
       "      <td>0.152669</td>\n",
       "    </tr>\n",
       "    <tr>\n",
       "      <th>3</th>\n",
       "      <td>0.174649</td>\n",
       "      <td>0.607131</td>\n",
       "      <td>0.0</td>\n",
       "      <td>0.284297</td>\n",
       "      <td>0.0</td>\n",
       "      <td>0.175530</td>\n",
       "      <td>0.0</td>\n",
       "      <td>0.0</td>\n",
       "      <td>0.0</td>\n",
       "      <td>1.0</td>\n",
       "      <td>0.177174</td>\n",
       "    </tr>\n",
       "    <tr>\n",
       "      <th>4</th>\n",
       "      <td>0.197158</td>\n",
       "      <td>0.449313</td>\n",
       "      <td>0.0</td>\n",
       "      <td>0.339143</td>\n",
       "      <td>0.0</td>\n",
       "      <td>0.209120</td>\n",
       "      <td>0.0</td>\n",
       "      <td>0.0</td>\n",
       "      <td>0.0</td>\n",
       "      <td>0.0</td>\n",
       "      <td>0.181546</td>\n",
       "    </tr>\n",
       "  </tbody>\n",
       "</table>\n",
       "</div>"
      ],
      "text/plain": [
       "      atemp       hum  mnth_3  windspeed  weekday_4      temp  yr_1  \\\n",
       "0  0.373517  0.828620     0.0   0.284606        0.0  0.355170   0.0   \n",
       "1  0.360541  0.715771     0.0   0.466215        0.0  0.379232   0.0   \n",
       "2  0.144830  0.449638     0.0   0.465740        0.0  0.171000   0.0   \n",
       "3  0.174649  0.607131     0.0   0.284297        0.0  0.175530   0.0   \n",
       "4  0.197158  0.449313     0.0   0.339143        0.0  0.209120   0.0   \n",
       "\n",
       "   weekday_5  weathersit_2  weekday_2       cnt  \n",
       "0        0.0           1.0        0.0  0.110792  \n",
       "1        0.0           1.0        0.0  0.089623  \n",
       "2        0.0           0.0        0.0  0.152669  \n",
       "3        0.0           0.0        1.0  0.177174  \n",
       "4        0.0           0.0        0.0  0.181546  "
      ]
     },
     "execution_count": 36,
     "metadata": {},
     "output_type": "execute_result"
    }
   ],
   "source": [
    "df2.head()"
   ]
  },
  {
   "cell_type": "code",
   "execution_count": 37,
   "metadata": {},
   "outputs": [],
   "source": [
    "dfX = df2.drop(['cnt'], axis = 1)\n",
    "dfy = df2['cnt']"
   ]
  },
  {
   "cell_type": "code",
   "execution_count": 38,
   "metadata": {},
   "outputs": [],
   "source": [
    "dailyX_train, dailyX_test, dailyy_train, dailyy_test = train_test_split(dfX, dfy, test_size = 0.2, random_state = 0)"
   ]
  },
  {
   "cell_type": "code",
   "execution_count": 39,
   "metadata": {},
   "outputs": [
    {
     "data": {
      "text/plain": [
       "(584, 10)"
      ]
     },
     "execution_count": 39,
     "metadata": {},
     "output_type": "execute_result"
    }
   ],
   "source": [
    "dailyX_train.shape"
   ]
  },
  {
   "cell_type": "markdown",
   "metadata": {},
   "source": [
    "### Deep Neural Net"
   ]
  },
  {
   "cell_type": "code",
   "execution_count": 40,
   "metadata": {},
   "outputs": [],
   "source": [
    "model = Sequential()\n",
    "model.add(Dense(100, activation = 'relu', input_dim = dailyX_train.shape[1]))\n",
    "model.add(Dropout(0.2))\n",
    "model.add(Dense(50, activation = 'relu'))\n",
    "model.add(Dropout(0.2))\n",
    "model.add(Dense(1, activation = 'linear'))"
   ]
  },
  {
   "cell_type": "code",
   "execution_count": 41,
   "metadata": {},
   "outputs": [
    {
     "name": "stdout",
     "output_type": "stream",
     "text": [
      "Model: \"sequential_3\"\n",
      "_________________________________________________________________\n",
      "Layer (type)                 Output Shape              Param #   \n",
      "=================================================================\n",
      "dense_4 (Dense)              (None, 100)               1100      \n",
      "_________________________________________________________________\n",
      "dropout_3 (Dropout)          (None, 100)               0         \n",
      "_________________________________________________________________\n",
      "dense_5 (Dense)              (None, 50)                5050      \n",
      "_________________________________________________________________\n",
      "dropout_4 (Dropout)          (None, 50)                0         \n",
      "_________________________________________________________________\n",
      "dense_6 (Dense)              (None, 1)                 51        \n",
      "=================================================================\n",
      "Total params: 6,201\n",
      "Trainable params: 6,201\n",
      "Non-trainable params: 0\n",
      "_________________________________________________________________\n"
     ]
    }
   ],
   "source": [
    "#print summary\n",
    "model.summary()"
   ]
  },
  {
   "cell_type": "code",
   "execution_count": 42,
   "metadata": {},
   "outputs": [],
   "source": [
    "# loss funtcion\n",
    "model.compile(loss = 'mean_squared_error',\n",
    "              optimizer = 'RMSprop',\n",
    "              metrics = ['accuracy', 'mse'])"
   ]
  },
  {
   "cell_type": "code",
   "execution_count": 43,
   "metadata": {},
   "outputs": [
    {
     "name": "stdout",
     "output_type": "stream",
     "text": [
      "Train on 486 samples, validate on 98 samples\n",
      "Epoch 1/50\n",
      "486/486 [==============================] - 1s 1ms/step - loss: 0.0885 - accuracy: 0.0000e+00 - mse: 0.0885 - val_loss: 0.0286 - val_accuracy: 0.0000e+00 - val_mse: 0.0286\n",
      "Epoch 2/50\n",
      "486/486 [==============================] - 0s 52us/step - loss: 0.0479 - accuracy: 0.0021 - mse: 0.0479 - val_loss: 0.0217 - val_accuracy: 0.0000e+00 - val_mse: 0.0217\n",
      "Epoch 3/50\n",
      "486/486 [==============================] - 0s 51us/step - loss: 0.0454 - accuracy: 0.0000e+00 - mse: 0.0454 - val_loss: 0.0179 - val_accuracy: 0.0000e+00 - val_mse: 0.0179\n",
      "Epoch 4/50\n",
      "486/486 [==============================] - 0s 51us/step - loss: 0.0387 - accuracy: 0.0000e+00 - mse: 0.0387 - val_loss: 0.0157 - val_accuracy: 0.0000e+00 - val_mse: 0.0157\n",
      "Epoch 5/50\n",
      "486/486 [==============================] - 0s 51us/step - loss: 0.0358 - accuracy: 0.0000e+00 - mse: 0.0358 - val_loss: 0.0156 - val_accuracy: 0.0000e+00 - val_mse: 0.0156\n",
      "Epoch 6/50\n",
      "486/486 [==============================] - 0s 51us/step - loss: 0.0345 - accuracy: 0.0000e+00 - mse: 0.0345 - val_loss: 0.0142 - val_accuracy: 0.0000e+00 - val_mse: 0.0142\n",
      "Epoch 7/50\n",
      "486/486 [==============================] - 0s 49us/step - loss: 0.0305 - accuracy: 0.0000e+00 - mse: 0.0305 - val_loss: 0.0142 - val_accuracy: 0.0000e+00 - val_mse: 0.0142\n",
      "Epoch 8/50\n",
      "486/486 [==============================] - 0s 51us/step - loss: 0.0304 - accuracy: 0.0000e+00 - mse: 0.0304 - val_loss: 0.0158 - val_accuracy: 0.0000e+00 - val_mse: 0.0158\n",
      "Epoch 9/50\n",
      "486/486 [==============================] - 0s 49us/step - loss: 0.0320 - accuracy: 0.0000e+00 - mse: 0.0320 - val_loss: 0.0166 - val_accuracy: 0.0000e+00 - val_mse: 0.0166\n",
      "Epoch 10/50\n",
      "486/486 [==============================] - 0s 60us/step - loss: 0.0285 - accuracy: 0.0021 - mse: 0.0285 - val_loss: 0.0171 - val_accuracy: 0.0000e+00 - val_mse: 0.0171\n",
      "Epoch 11/50\n",
      "486/486 [==============================] - 0s 53us/step - loss: 0.0294 - accuracy: 0.0021 - mse: 0.0294 - val_loss: 0.0183 - val_accuracy: 0.0000e+00 - val_mse: 0.0183\n",
      "Epoch 12/50\n",
      "486/486 [==============================] - 0s 58us/step - loss: 0.0260 - accuracy: 0.0000e+00 - mse: 0.0260 - val_loss: 0.0177 - val_accuracy: 0.0000e+00 - val_mse: 0.0177\n",
      "Epoch 13/50\n",
      "486/486 [==============================] - 0s 56us/step - loss: 0.0263 - accuracy: 0.0000e+00 - mse: 0.0263 - val_loss: 0.0152 - val_accuracy: 0.0000e+00 - val_mse: 0.0152\n",
      "Epoch 14/50\n",
      "486/486 [==============================] - 0s 49us/step - loss: 0.0248 - accuracy: 0.0000e+00 - mse: 0.0248 - val_loss: 0.0171 - val_accuracy: 0.0000e+00 - val_mse: 0.0171\n",
      "Epoch 15/50\n",
      "486/486 [==============================] - ETA: 0s - loss: 0.0276 - accuracy: 0.0000e+00 - mse: 0.02 - 0s 49us/step - loss: 0.0244 - accuracy: 0.0021 - mse: 0.0244 - val_loss: 0.0150 - val_accuracy: 0.0000e+00 - val_mse: 0.0150\n",
      "Epoch 16/50\n",
      "486/486 [==============================] - 0s 49us/step - loss: 0.0216 - accuracy: 0.0000e+00 - mse: 0.0216 - val_loss: 0.0159 - val_accuracy: 0.0000e+00 - val_mse: 0.0159\n",
      "Epoch 17/50\n",
      "486/486 [==============================] - ETA: 0s - loss: 0.0194 - accuracy: 0.0000e+00 - mse: 0.01 - 0s 53us/step - loss: 0.0202 - accuracy: 0.0000e+00 - mse: 0.0202 - val_loss: 0.0147 - val_accuracy: 0.0000e+00 - val_mse: 0.0147\n",
      "Epoch 18/50\n",
      "486/486 [==============================] - 0s 53us/step - loss: 0.0229 - accuracy: 0.0021 - mse: 0.0229 - val_loss: 0.0147 - val_accuracy: 0.0000e+00 - val_mse: 0.0147\n",
      "Epoch 19/50\n",
      "486/486 [==============================] - 0s 49us/step - loss: 0.0221 - accuracy: 0.0000e+00 - mse: 0.0221 - val_loss: 0.0149 - val_accuracy: 0.0000e+00 - val_mse: 0.0149\n",
      "Epoch 20/50\n",
      "486/486 [==============================] - 0s 49us/step - loss: 0.0209 - accuracy: 0.0000e+00 - mse: 0.0209 - val_loss: 0.0153 - val_accuracy: 0.0000e+00 - val_mse: 0.0153\n",
      "Epoch 21/50\n",
      "486/486 [==============================] - 0s 49us/step - loss: 0.0240 - accuracy: 0.0000e+00 - mse: 0.0240 - val_loss: 0.0188 - val_accuracy: 0.0000e+00 - val_mse: 0.0188\n",
      "Epoch 22/50\n",
      "486/486 [==============================] - 0s 53us/step - loss: 0.0204 - accuracy: 0.0021 - mse: 0.0204 - val_loss: 0.0154 - val_accuracy: 0.0000e+00 - val_mse: 0.0154\n",
      "Epoch 23/50\n",
      "486/486 [==============================] - 0s 56us/step - loss: 0.0200 - accuracy: 0.0021 - mse: 0.0200 - val_loss: 0.0154 - val_accuracy: 0.0000e+00 - val_mse: 0.0154\n",
      "Epoch 24/50\n",
      "486/486 [==============================] - 0s 56us/step - loss: 0.0199 - accuracy: 0.0021 - mse: 0.0199 - val_loss: 0.0159 - val_accuracy: 0.0000e+00 - val_mse: 0.0159\n",
      "Epoch 25/50\n",
      "486/486 [==============================] - 0s 51us/step - loss: 0.0196 - accuracy: 0.0021 - mse: 0.0196 - val_loss: 0.0181 - val_accuracy: 0.0000e+00 - val_mse: 0.0181\n",
      "Epoch 26/50\n",
      "486/486 [==============================] - 0s 51us/step - loss: 0.0183 - accuracy: 0.0021 - mse: 0.0183 - val_loss: 0.0152 - val_accuracy: 0.0000e+00 - val_mse: 0.0152\n",
      "Epoch 27/50\n",
      "486/486 [==============================] - 0s 64us/step - loss: 0.0186 - accuracy: 0.0000e+00 - mse: 0.0186 - val_loss: 0.0148 - val_accuracy: 0.0000e+00 - val_mse: 0.0148\n",
      "Epoch 28/50\n",
      "486/486 [==============================] - 0s 53us/step - loss: 0.0198 - accuracy: 0.0021 - mse: 0.0198 - val_loss: 0.0157 - val_accuracy: 0.0000e+00 - val_mse: 0.0157\n",
      "Epoch 29/50\n",
      "486/486 [==============================] - 0s 51us/step - loss: 0.0197 - accuracy: 0.0000e+00 - mse: 0.0197 - val_loss: 0.0153 - val_accuracy: 0.0000e+00 - val_mse: 0.0153\n",
      "Epoch 30/50\n",
      "486/486 [==============================] - 0s 56us/step - loss: 0.0191 - accuracy: 0.0000e+00 - mse: 0.0191 - val_loss: 0.0157 - val_accuracy: 0.0000e+00 - val_mse: 0.0157\n",
      "Epoch 31/50\n",
      "486/486 [==============================] - 0s 47us/step - loss: 0.0191 - accuracy: 0.0000e+00 - mse: 0.0191 - val_loss: 0.0144 - val_accuracy: 0.0000e+00 - val_mse: 0.0144\n",
      "Epoch 32/50\n",
      "486/486 [==============================] - 0s 64us/step - loss: 0.0200 - accuracy: 0.0021 - mse: 0.0200 - val_loss: 0.0181 - val_accuracy: 0.0000e+00 - val_mse: 0.0181\n",
      "Epoch 33/50\n",
      "486/486 [==============================] - 0s 56us/step - loss: 0.0176 - accuracy: 0.0000e+00 - mse: 0.0176 - val_loss: 0.0148 - val_accuracy: 0.0000e+00 - val_mse: 0.0148\n",
      "Epoch 34/50\n",
      "486/486 [==============================] - 0s 58us/step - loss: 0.0195 - accuracy: 0.0021 - mse: 0.0195 - val_loss: 0.0142 - val_accuracy: 0.0000e+00 - val_mse: 0.0142\n",
      "Epoch 35/50\n",
      "486/486 [==============================] - 0s 56us/step - loss: 0.0185 - accuracy: 0.0021 - mse: 0.0185 - val_loss: 0.0205 - val_accuracy: 0.0000e+00 - val_mse: 0.0205\n",
      "Epoch 36/50\n",
      "486/486 [==============================] - 0s 53us/step - loss: 0.0179 - accuracy: 0.0000e+00 - mse: 0.0179 - val_loss: 0.0143 - val_accuracy: 0.0000e+00 - val_mse: 0.0143\n",
      "Epoch 37/50\n",
      "486/486 [==============================] - 0s 53us/step - loss: 0.0163 - accuracy: 0.0021 - mse: 0.0163 - val_loss: 0.0135 - val_accuracy: 0.0000e+00 - val_mse: 0.0135\n",
      "Epoch 38/50\n",
      "486/486 [==============================] - 0s 56us/step - loss: 0.0176 - accuracy: 0.0021 - mse: 0.0176 - val_loss: 0.0151 - val_accuracy: 0.0000e+00 - val_mse: 0.0151\n",
      "Epoch 39/50\n",
      "486/486 [==============================] - 0s 47us/step - loss: 0.0159 - accuracy: 0.0021 - mse: 0.0159 - val_loss: 0.0137 - val_accuracy: 0.0000e+00 - val_mse: 0.0137\n",
      "Epoch 40/50\n",
      "486/486 [==============================] - 0s 53us/step - loss: 0.0165 - accuracy: 0.0021 - mse: 0.0165 - val_loss: 0.0134 - val_accuracy: 0.0000e+00 - val_mse: 0.0134\n",
      "Epoch 41/50\n",
      "486/486 [==============================] - 0s 56us/step - loss: 0.0177 - accuracy: 0.0000e+00 - mse: 0.0177 - val_loss: 0.0135 - val_accuracy: 0.0000e+00 - val_mse: 0.0135\n",
      "Epoch 42/50\n",
      "486/486 [==============================] - 0s 56us/step - loss: 0.0168 - accuracy: 0.0000e+00 - mse: 0.0168 - val_loss: 0.0135 - val_accuracy: 0.0000e+00 - val_mse: 0.0135\n",
      "Epoch 43/50\n",
      "486/486 [==============================] - 0s 56us/step - loss: 0.0174 - accuracy: 0.0021 - mse: 0.0174 - val_loss: 0.0160 - val_accuracy: 0.0000e+00 - val_mse: 0.0160\n",
      "Epoch 44/50\n",
      "486/486 [==============================] - 0s 51us/step - loss: 0.0171 - accuracy: 0.0021 - mse: 0.0171 - val_loss: 0.0133 - val_accuracy: 0.0000e+00 - val_mse: 0.0133\n",
      "Epoch 45/50\n"
     ]
    },
    {
     "name": "stdout",
     "output_type": "stream",
     "text": [
      "486/486 [==============================] - 0s 56us/step - loss: 0.0168 - accuracy: 0.0021 - mse: 0.0168 - val_loss: 0.0133 - val_accuracy: 0.0000e+00 - val_mse: 0.0133\n",
      "Epoch 46/50\n",
      "486/486 [==============================] - 0s 53us/step - loss: 0.0150 - accuracy: 0.0021 - mse: 0.0150 - val_loss: 0.0135 - val_accuracy: 0.0000e+00 - val_mse: 0.0135\n",
      "Epoch 47/50\n",
      "486/486 [==============================] - 0s 58us/step - loss: 0.0158 - accuracy: 0.0000e+00 - mse: 0.0158 - val_loss: 0.0131 - val_accuracy: 0.0000e+00 - val_mse: 0.0131\n",
      "Epoch 48/50\n",
      "486/486 [==============================] - 0s 60us/step - loss: 0.0153 - accuracy: 0.0021 - mse: 0.0153 - val_loss: 0.0147 - val_accuracy: 0.0000e+00 - val_mse: 0.0147\n",
      "Epoch 49/50\n",
      "486/486 [==============================] - 0s 58us/step - loss: 0.0153 - accuracy: 0.0021 - mse: 0.0153 - val_loss: 0.0131 - val_accuracy: 0.0000e+00 - val_mse: 0.0131\n",
      "Epoch 50/50\n",
      "486/486 [==============================] - 0s 60us/step - loss: 0.0161 - accuracy: 0.0021 - mse: 0.0161 - val_loss: 0.0147 - val_accuracy: 0.0000e+00 - val_mse: 0.0147\n"
     ]
    },
    {
     "data": {
      "text/plain": [
       "<keras.callbacks.callbacks.History at 0x22729d09d30>"
      ]
     },
     "execution_count": 43,
     "metadata": {},
     "output_type": "execute_result"
    }
   ],
   "source": [
    "# fit the model\n",
    "model.fit(dailyX_train,\n",
    "          dailyy_train,\n",
    "          batch_size = 100,\n",
    "          epochs = 50,\n",
    "          validation_split = 1/6,\n",
    "          verbose = 1)"
   ]
  },
  {
   "cell_type": "code",
   "execution_count": 44,
   "metadata": {},
   "outputs": [
    {
     "name": "stdout",
     "output_type": "stream",
     "text": [
      "147/147 [==============================] - 0s 68us/step\n"
     ]
    },
    {
     "data": {
      "text/plain": [
       "[0.01573884056336215, 0.006802720949053764, 0.015738841146230698]"
      ]
     },
     "execution_count": 44,
     "metadata": {},
     "output_type": "execute_result"
    }
   ],
   "source": [
    "model.evaluate(dailyX_test, dailyy_test)"
   ]
  },
  {
   "cell_type": "code",
   "execution_count": 45,
   "metadata": {},
   "outputs": [],
   "source": [
    "# predict 'cnt'\n",
    "y_pred = model.predict(dailyX_test)"
   ]
  },
  {
   "cell_type": "markdown",
   "metadata": {},
   "source": [
    "### Plotting true values (y) and predictions (y_pred)"
   ]
  },
  {
   "cell_type": "code",
   "execution_count": 49,
   "metadata": {},
   "outputs": [],
   "source": [
    "days = dailyy_test.values"
   ]
  },
  {
   "cell_type": "code",
   "execution_count": 52,
   "metadata": {},
   "outputs": [
    {
     "data": {
      "image/png": "[encoded data removed]",
      "text/plain": [
       "<Figure size 864x432 with 1 Axes>"
      ]
     },
     "metadata": {
      "needs_background": "light"
     },
     "output_type": "display_data"
    }
   ],
   "source": [
    "plt.figure(figsize = (12,6))\n",
    "plt.plot(days, label = \"True\")\n",
    "plt.plot(y_pred, label = \"Predictions\")\n",
    "plt.title('Daily')\n",
    "plt.legend()\n",
    "plt.show()"
   ]
  },
  {
   "cell_type": "code",
   "execution_count": 51,
   "metadata": {},
   "outputs": [
    {
     "name": "stdout",
     "output_type": "stream",
     "text": [
      "147/147 [==============================] - 0s 61us/step\n",
      "The mean squared error is 0.007\n"
     ]
    }
   ],
   "source": [
    "print('The mean squared error is %.3f' % model.evaluate(dailyX_test, dailyy_test)[1])"
   ]
  },
  {
   "cell_type": "markdown",
   "metadata": {},
   "source": [
    "## Hourly Data Set"
   ]
  },
  {
   "cell_type": "code",
   "execution_count": 4,
   "metadata": {},
   "outputs": [],
   "source": [
    "hourlyData = pd.read_csv('C:/Users/Jenny/Desktop/UOP-MSDS/2020Spring/ANLT_210_SoftwareMethods/Bikeshare/Data/hourly.csv')"
   ]
  },
  {
   "cell_type": "markdown",
   "metadata": {},
   "source": [
    "Same as in the EDA phase, we will remove features that aren't needed and repeative."
   ]
  },
  {
   "cell_type": "code",
   "execution_count": 5,
   "metadata": {},
   "outputs": [],
   "source": [
    "hourlyData2 = hourlyData.drop(['instant', 'dteday', 'hr', 'casual', 'registered'], axis = 1)"
   ]
  },
  {
   "cell_type": "markdown",
   "metadata": {},
   "source": [
    "### Cleanning the Data Set\n",
    "Getting dummy variables for categorical features using the *cleaningData* function above."
   ]
  },
  {
   "cell_type": "code",
   "execution_count": 6,
   "metadata": {},
   "outputs": [],
   "source": [
    "hourlyCate = cleaningData(hourlyData2)"
   ]
  },
  {
   "cell_type": "code",
   "execution_count": 7,
   "metadata": {},
   "outputs": [
    {
     "data": {
      "text/html": [
       "<div>\n",
       "<style scoped>\n",
       "    .dataframe tbody tr th:only-of-type {\n",
       "        vertical-align: middle;\n",
       "    }\n",
       "\n",
       "    .dataframe tbody tr th {\n",
       "        vertical-align: top;\n",
       "    }\n",
       "\n",
       "    .dataframe thead th {\n",
       "        text-align: right;\n",
       "    }\n",
       "</style>\n",
       "<table border=\"1\" class=\"dataframe\">\n",
       "  <thead>\n",
       "    <tr style=\"text-align: right;\">\n",
       "      <th></th>\n",
       "      <th>temp</th>\n",
       "      <th>atemp</th>\n",
       "      <th>hum</th>\n",
       "      <th>windspeed</th>\n",
       "      <th>season_1</th>\n",
       "      <th>season_2</th>\n",
       "      <th>season_3</th>\n",
       "      <th>season_4</th>\n",
       "      <th>yr_0</th>\n",
       "      <th>yr_1</th>\n",
       "      <th>...</th>\n",
       "      <th>weekday_4</th>\n",
       "      <th>weekday_5</th>\n",
       "      <th>weekday_6</th>\n",
       "      <th>workingday_0</th>\n",
       "      <th>workingday_1</th>\n",
       "      <th>weathersit_1</th>\n",
       "      <th>weathersit_2</th>\n",
       "      <th>weathersit_3</th>\n",
       "      <th>weathersit_4</th>\n",
       "      <th>cnt</th>\n",
       "    </tr>\n",
       "  </thead>\n",
       "  <tbody>\n",
       "    <tr>\n",
       "      <th>0</th>\n",
       "      <td>0.24</td>\n",
       "      <td>0.2879</td>\n",
       "      <td>0.81</td>\n",
       "      <td>0.0</td>\n",
       "      <td>1</td>\n",
       "      <td>0</td>\n",
       "      <td>0</td>\n",
       "      <td>0</td>\n",
       "      <td>1</td>\n",
       "      <td>0</td>\n",
       "      <td>...</td>\n",
       "      <td>0</td>\n",
       "      <td>0</td>\n",
       "      <td>1</td>\n",
       "      <td>1</td>\n",
       "      <td>0</td>\n",
       "      <td>1</td>\n",
       "      <td>0</td>\n",
       "      <td>0</td>\n",
       "      <td>0</td>\n",
       "      <td>16</td>\n",
       "    </tr>\n",
       "    <tr>\n",
       "      <th>1</th>\n",
       "      <td>0.22</td>\n",
       "      <td>0.2727</td>\n",
       "      <td>0.80</td>\n",
       "      <td>0.0</td>\n",
       "      <td>1</td>\n",
       "      <td>0</td>\n",
       "      <td>0</td>\n",
       "      <td>0</td>\n",
       "      <td>1</td>\n",
       "      <td>0</td>\n",
       "      <td>...</td>\n",
       "      <td>0</td>\n",
       "      <td>0</td>\n",
       "      <td>1</td>\n",
       "      <td>1</td>\n",
       "      <td>0</td>\n",
       "      <td>1</td>\n",
       "      <td>0</td>\n",
       "      <td>0</td>\n",
       "      <td>0</td>\n",
       "      <td>40</td>\n",
       "    </tr>\n",
       "    <tr>\n",
       "      <th>2</th>\n",
       "      <td>0.22</td>\n",
       "      <td>0.2727</td>\n",
       "      <td>0.80</td>\n",
       "      <td>0.0</td>\n",
       "      <td>1</td>\n",
       "      <td>0</td>\n",
       "      <td>0</td>\n",
       "      <td>0</td>\n",
       "      <td>1</td>\n",
       "      <td>0</td>\n",
       "      <td>...</td>\n",
       "      <td>0</td>\n",
       "      <td>0</td>\n",
       "      <td>1</td>\n",
       "      <td>1</td>\n",
       "      <td>0</td>\n",
       "      <td>1</td>\n",
       "      <td>0</td>\n",
       "      <td>0</td>\n",
       "      <td>0</td>\n",
       "      <td>32</td>\n",
       "    </tr>\n",
       "    <tr>\n",
       "      <th>3</th>\n",
       "      <td>0.24</td>\n",
       "      <td>0.2879</td>\n",
       "      <td>0.75</td>\n",
       "      <td>0.0</td>\n",
       "      <td>1</td>\n",
       "      <td>0</td>\n",
       "      <td>0</td>\n",
       "      <td>0</td>\n",
       "      <td>1</td>\n",
       "      <td>0</td>\n",
       "      <td>...</td>\n",
       "      <td>0</td>\n",
       "      <td>0</td>\n",
       "      <td>1</td>\n",
       "      <td>1</td>\n",
       "      <td>0</td>\n",
       "      <td>1</td>\n",
       "      <td>0</td>\n",
       "      <td>0</td>\n",
       "      <td>0</td>\n",
       "      <td>13</td>\n",
       "    </tr>\n",
       "    <tr>\n",
       "      <th>4</th>\n",
       "      <td>0.24</td>\n",
       "      <td>0.2879</td>\n",
       "      <td>0.75</td>\n",
       "      <td>0.0</td>\n",
       "      <td>1</td>\n",
       "      <td>0</td>\n",
       "      <td>0</td>\n",
       "      <td>0</td>\n",
       "      <td>1</td>\n",
       "      <td>0</td>\n",
       "      <td>...</td>\n",
       "      <td>0</td>\n",
       "      <td>0</td>\n",
       "      <td>1</td>\n",
       "      <td>1</td>\n",
       "      <td>0</td>\n",
       "      <td>1</td>\n",
       "      <td>0</td>\n",
       "      <td>0</td>\n",
       "      <td>0</td>\n",
       "      <td>1</td>\n",
       "    </tr>\n",
       "  </tbody>\n",
       "</table>\n",
       "<p>5 rows × 38 columns</p>\n",
       "</div>"
      ],
      "text/plain": [
       "   temp   atemp   hum  windspeed  season_1  season_2  season_3  season_4  \\\n",
       "0  0.24  0.2879  0.81        0.0         1         0         0         0   \n",
       "1  0.22  0.2727  0.80        0.0         1         0         0         0   \n",
       "2  0.22  0.2727  0.80        0.0         1         0         0         0   \n",
       "3  0.24  0.2879  0.75        0.0         1         0         0         0   \n",
       "4  0.24  0.2879  0.75        0.0         1         0         0         0   \n",
       "\n",
       "   yr_0  yr_1  ...  weekday_4  weekday_5  weekday_6  workingday_0  \\\n",
       "0     1     0  ...          0          0          1             1   \n",
       "1     1     0  ...          0          0          1             1   \n",
       "2     1     0  ...          0          0          1             1   \n",
       "3     1     0  ...          0          0          1             1   \n",
       "4     1     0  ...          0          0          1             1   \n",
       "\n",
       "   workingday_1  weathersit_1  weathersit_2  weathersit_3  weathersit_4  cnt  \n",
       "0             0             1             0             0             0   16  \n",
       "1             0             1             0             0             0   40  \n",
       "2             0             1             0             0             0   32  \n",
       "3             0             1             0             0             0   13  \n",
       "4             0             1             0             0             0    1  \n",
       "\n",
       "[5 rows x 38 columns]"
      ]
     },
     "execution_count": 7,
     "metadata": {},
     "output_type": "execute_result"
    }
   ],
   "source": [
    "hourlyCate.head()"
   ]
  },
  {
   "cell_type": "code",
   "execution_count": 8,
   "metadata": {},
   "outputs": [
    {
     "data": {
      "text/plain": [
       "(17379, 38)"
      ]
     },
     "execution_count": 8,
     "metadata": {},
     "output_type": "execute_result"
    }
   ],
   "source": [
    "hourlyCate.shape"
   ]
  },
  {
   "cell_type": "markdown",
   "metadata": {},
   "source": [
    "### Feature selection\n",
    "\n",
    "Selecting top n features with ExtraTreesClassifier and the *featureSelect* function created above"
   ]
  },
  {
   "cell_type": "code",
   "execution_count": 9,
   "metadata": {},
   "outputs": [],
   "source": [
    "xFeath, yh = featureSelect(hourlyCate, 10)"
   ]
  },
  {
   "cell_type": "code",
   "execution_count": 10,
   "metadata": {},
   "outputs": [
    {
     "data": {
      "text/html": [
       "<div>\n",
       "<style scoped>\n",
       "    .dataframe tbody tr th:only-of-type {\n",
       "        vertical-align: middle;\n",
       "    }\n",
       "\n",
       "    .dataframe tbody tr th {\n",
       "        vertical-align: top;\n",
       "    }\n",
       "\n",
       "    .dataframe thead th {\n",
       "        text-align: right;\n",
       "    }\n",
       "</style>\n",
       "<table border=\"1\" class=\"dataframe\">\n",
       "  <thead>\n",
       "    <tr style=\"text-align: right;\">\n",
       "      <th></th>\n",
       "      <th>hum</th>\n",
       "      <th>windspeed</th>\n",
       "      <th>atemp</th>\n",
       "      <th>temp</th>\n",
       "      <th>weathersit_1</th>\n",
       "      <th>weathersit_3</th>\n",
       "      <th>weekday_5</th>\n",
       "      <th>weathersit_2</th>\n",
       "      <th>yr_0</th>\n",
       "      <th>weekday_3</th>\n",
       "    </tr>\n",
       "  </thead>\n",
       "  <tbody>\n",
       "    <tr>\n",
       "      <th>0</th>\n",
       "      <td>0.81</td>\n",
       "      <td>0.0</td>\n",
       "      <td>0.2879</td>\n",
       "      <td>0.24</td>\n",
       "      <td>1</td>\n",
       "      <td>0</td>\n",
       "      <td>0</td>\n",
       "      <td>0</td>\n",
       "      <td>1</td>\n",
       "      <td>0</td>\n",
       "    </tr>\n",
       "    <tr>\n",
       "      <th>1</th>\n",
       "      <td>0.80</td>\n",
       "      <td>0.0</td>\n",
       "      <td>0.2727</td>\n",
       "      <td>0.22</td>\n",
       "      <td>1</td>\n",
       "      <td>0</td>\n",
       "      <td>0</td>\n",
       "      <td>0</td>\n",
       "      <td>1</td>\n",
       "      <td>0</td>\n",
       "    </tr>\n",
       "    <tr>\n",
       "      <th>2</th>\n",
       "      <td>0.80</td>\n",
       "      <td>0.0</td>\n",
       "      <td>0.2727</td>\n",
       "      <td>0.22</td>\n",
       "      <td>1</td>\n",
       "      <td>0</td>\n",
       "      <td>0</td>\n",
       "      <td>0</td>\n",
       "      <td>1</td>\n",
       "      <td>0</td>\n",
       "    </tr>\n",
       "    <tr>\n",
       "      <th>3</th>\n",
       "      <td>0.75</td>\n",
       "      <td>0.0</td>\n",
       "      <td>0.2879</td>\n",
       "      <td>0.24</td>\n",
       "      <td>1</td>\n",
       "      <td>0</td>\n",
       "      <td>0</td>\n",
       "      <td>0</td>\n",
       "      <td>1</td>\n",
       "      <td>0</td>\n",
       "    </tr>\n",
       "    <tr>\n",
       "      <th>4</th>\n",
       "      <td>0.75</td>\n",
       "      <td>0.0</td>\n",
       "      <td>0.2879</td>\n",
       "      <td>0.24</td>\n",
       "      <td>1</td>\n",
       "      <td>0</td>\n",
       "      <td>0</td>\n",
       "      <td>0</td>\n",
       "      <td>1</td>\n",
       "      <td>0</td>\n",
       "    </tr>\n",
       "  </tbody>\n",
       "</table>\n",
       "</div>"
      ],
      "text/plain": [
       "    hum  windspeed   atemp  temp  weathersit_1  weathersit_3  weekday_5  \\\n",
       "0  0.81        0.0  0.2879  0.24             1             0          0   \n",
       "1  0.80        0.0  0.2727  0.22             1             0          0   \n",
       "2  0.80        0.0  0.2727  0.22             1             0          0   \n",
       "3  0.75        0.0  0.2879  0.24             1             0          0   \n",
       "4  0.75        0.0  0.2879  0.24             1             0          0   \n",
       "\n",
       "   weathersit_2  yr_0  weekday_3  \n",
       "0             0     1          0  \n",
       "1             0     1          0  \n",
       "2             0     1          0  \n",
       "3             0     1          0  \n",
       "4             0     1          0  "
      ]
     },
     "execution_count": 10,
     "metadata": {},
     "output_type": "execute_result"
    }
   ],
   "source": [
    "xFeath.head()"
   ]
  },
  {
   "cell_type": "markdown",
   "metadata": {},
   "source": [
    "### Split and normalize the data\n",
    "The data set is normalized using StandardScaler from sklearns. The split will be 80% for train and 20% for test."
   ]
  },
  {
   "cell_type": "code",
   "execution_count": 12,
   "metadata": {},
   "outputs": [],
   "source": [
    "dfh = pd.concat([xFeath, yh], axis = 1)"
   ]
  },
  {
   "cell_type": "code",
   "execution_count": 13,
   "metadata": {},
   "outputs": [],
   "source": [
    "# normalize\n",
    "sc = MinMaxScaler(feature_range=(0, 1))\n",
    "dfh2 = pd.DataFrame(sc.fit_transform(dfh))\n",
    "dfh2.columns = dfh.columns"
   ]
  },
  {
   "cell_type": "code",
   "execution_count": 14,
   "metadata": {},
   "outputs": [],
   "source": [
    "dfhX = dfh2.drop(['cnt'], axis = 1)\n",
    "dfhy = dfh2['cnt']"
   ]
  },
  {
   "cell_type": "code",
   "execution_count": 15,
   "metadata": {},
   "outputs": [],
   "source": [
    "hourlyX_train, hourlyX_test, hourlyy_train, hourlyy_test = train_test_split(dfhX, dfhy, test_size = 0.2, random_state = 0)"
   ]
  },
  {
   "cell_type": "markdown",
   "metadata": {},
   "source": [
    "### Deep NN"
   ]
  },
  {
   "cell_type": "code",
   "execution_count": 17,
   "metadata": {
    "scrolled": true
   },
   "outputs": [
    {
     "name": "stdout",
     "output_type": "stream",
     "text": [
      "Model: \"sequential_2\"\n",
      "_________________________________________________________________\n",
      "Layer (type)                 Output Shape              Param #   \n",
      "=================================================================\n",
      "dense_1 (Dense)              (None, 100)               1100      \n",
      "_________________________________________________________________\n",
      "dropout_1 (Dropout)          (None, 100)               0         \n",
      "_________________________________________________________________\n",
      "dense_2 (Dense)              (None, 50)                5050      \n",
      "_________________________________________________________________\n",
      "dropout_2 (Dropout)          (None, 50)                0         \n",
      "_________________________________________________________________\n",
      "dense_3 (Dense)              (None, 1)                 51        \n",
      "=================================================================\n",
      "Total params: 6,201\n",
      "Trainable params: 6,201\n",
      "Non-trainable params: 0\n",
      "_________________________________________________________________\n",
      "Train on 11585 samples, validate on 2318 samples\n",
      "Epoch 1/50\n",
      "11585/11585 [==============================] - 1s 117us/step - loss: 0.0341 - accuracy: 0.0082 - mse: 0.0341 - val_loss: 0.0240 - val_accuracy: 0.0078 - val_mse: 0.0240\n",
      "Epoch 2/50\n",
      "11585/11585 [==============================] - 1s 44us/step - loss: 0.0261 - accuracy: 0.0082 - mse: 0.0261 - val_loss: 0.0242 - val_accuracy: 0.0078 - val_mse: 0.0242\n",
      "Epoch 3/50\n",
      "11585/11585 [==============================] - 1s 45us/step - loss: 0.0254 - accuracy: 0.0082 - mse: 0.0254 - val_loss: 0.0228 - val_accuracy: 0.0078 - val_mse: 0.0228\n",
      "Epoch 4/50\n",
      "11585/11585 [==============================] - 0s 43us/step - loss: 0.0250 - accuracy: 0.0082 - mse: 0.0250 - val_loss: 0.0226 - val_accuracy: 0.0078 - val_mse: 0.0226\n",
      "Epoch 5/50\n",
      "11585/11585 [==============================] - 0s 40us/step - loss: 0.0246 - accuracy: 0.0082 - mse: 0.0246 - val_loss: 0.0224 - val_accuracy: 0.0078 - val_mse: 0.0224\n",
      "Epoch 6/50\n",
      "11585/11585 [==============================] - 0s 41us/step - loss: 0.0240 - accuracy: 0.0082 - mse: 0.0240 - val_loss: 0.0221 - val_accuracy: 0.0078 - val_mse: 0.0221\n",
      "Epoch 7/50\n",
      "11585/11585 [==============================] - 1s 45us/step - loss: 0.0240 - accuracy: 0.0082 - mse: 0.0240 - val_loss: 0.0223 - val_accuracy: 0.0078 - val_mse: 0.0223\n",
      "Epoch 8/50\n",
      "11585/11585 [==============================] - 0s 41us/step - loss: 0.0241 - accuracy: 0.0082 - mse: 0.0241 - val_loss: 0.0225 - val_accuracy: 0.0078 - val_mse: 0.0225\n",
      "Epoch 9/50\n",
      "11585/11585 [==============================] - 0s 42us/step - loss: 0.0238 - accuracy: 0.0082 - mse: 0.0238 - val_loss: 0.0222 - val_accuracy: 0.0078 - val_mse: 0.0222\n",
      "Epoch 10/50\n",
      "11585/11585 [==============================] - 0s 41us/step - loss: 0.0236 - accuracy: 0.0082 - mse: 0.0236 - val_loss: 0.0222 - val_accuracy: 0.0078 - val_mse: 0.0222\n",
      "Epoch 11/50\n",
      "11585/11585 [==============================] - 0s 38us/step - loss: 0.0236 - accuracy: 0.0082 - mse: 0.0236 - val_loss: 0.0222 - val_accuracy: 0.0078 - val_mse: 0.0222\n",
      "Epoch 12/50\n",
      "11585/11585 [==============================] - 0s 40us/step - loss: 0.0235 - accuracy: 0.0082 - mse: 0.0235 - val_loss: 0.0221 - val_accuracy: 0.0078 - val_mse: 0.0221\n",
      "Epoch 13/50\n",
      "11585/11585 [==============================] - 0s 39us/step - loss: 0.0234 - accuracy: 0.0082 - mse: 0.0234 - val_loss: 0.0222 - val_accuracy: 0.0078 - val_mse: 0.0222\n",
      "Epoch 14/50\n",
      "11585/11585 [==============================] - 0s 43us/step - loss: 0.0233 - accuracy: 0.0082 - mse: 0.0233 - val_loss: 0.0218 - val_accuracy: 0.0078 - val_mse: 0.0218\n",
      "Epoch 15/50\n",
      "11585/11585 [==============================] - 0s 39us/step - loss: 0.0233 - accuracy: 0.0082 - mse: 0.0233 - val_loss: 0.0219 - val_accuracy: 0.0078 - val_mse: 0.0219\n",
      "Epoch 16/50\n",
      "11585/11585 [==============================] - 0s 39us/step - loss: 0.0233 - accuracy: 0.0082 - mse: 0.0233 - val_loss: 0.0219 - val_accuracy: 0.0078 - val_mse: 0.0219\n",
      "Epoch 17/50\n",
      "11585/11585 [==============================] - 0s 40us/step - loss: 0.0230 - accuracy: 0.0082 - mse: 0.0230 - val_loss: 0.0218 - val_accuracy: 0.0078 - val_mse: 0.0218\n",
      "Epoch 18/50\n",
      "11585/11585 [==============================] - 0s 41us/step - loss: 0.0231 - accuracy: 0.0082 - mse: 0.0231 - val_loss: 0.0222 - val_accuracy: 0.0078 - val_mse: 0.0222\n",
      "Epoch 19/50\n",
      "11585/11585 [==============================] - 0s 39us/step - loss: 0.0232 - accuracy: 0.0082 - mse: 0.0232 - val_loss: 0.0233 - val_accuracy: 0.0078 - val_mse: 0.0233\n",
      "Epoch 20/50\n",
      "11585/11585 [==============================] - 0s 40us/step - loss: 0.0231 - accuracy: 0.0082 - mse: 0.0231 - val_loss: 0.0220 - val_accuracy: 0.0078 - val_mse: 0.0220\n",
      "Epoch 21/50\n",
      "11585/11585 [==============================] - 0s 41us/step - loss: 0.0230 - accuracy: 0.0082 - mse: 0.0230 - val_loss: 0.0218 - val_accuracy: 0.0078 - val_mse: 0.0218\n",
      "Epoch 22/50\n",
      "11585/11585 [==============================] - 0s 40us/step - loss: 0.0231 - accuracy: 0.0082 - mse: 0.0231 - val_loss: 0.0221 - val_accuracy: 0.0078 - val_mse: 0.0221\n",
      "Epoch 23/50\n",
      "11585/11585 [==============================] - 0s 42us/step - loss: 0.0229 - accuracy: 0.0082 - mse: 0.0229 - val_loss: 0.0218 - val_accuracy: 0.0078 - val_mse: 0.0218\n",
      "Epoch 24/50\n",
      "11585/11585 [==============================] - 1s 43us/step - loss: 0.0230 - accuracy: 0.0082 - mse: 0.0230 - val_loss: 0.0218 - val_accuracy: 0.0078 - val_mse: 0.0218\n",
      "Epoch 25/50\n",
      "11585/11585 [==============================] - 0s 41us/step - loss: 0.0230 - accuracy: 0.0082 - mse: 0.0230 - val_loss: 0.0220 - val_accuracy: 0.0078 - val_mse: 0.0220\n",
      "Epoch 26/50\n",
      "11585/11585 [==============================] - 0s 39us/step - loss: 0.0229 - accuracy: 0.0082 - mse: 0.0229 - val_loss: 0.0220 - val_accuracy: 0.0078 - val_mse: 0.0220\n",
      "Epoch 27/50\n",
      "11585/11585 [==============================] - 0s 42us/step - loss: 0.0229 - accuracy: 0.0082 - mse: 0.0229 - val_loss: 0.0217 - val_accuracy: 0.0078 - val_mse: 0.0217\n",
      "Epoch 28/50\n",
      "11585/11585 [==============================] - ETA: 0s - loss: 0.0230 - accuracy: 0.0085 - mse: 0.02 - 1s 44us/step - loss: 0.0230 - accuracy: 0.0082 - mse: 0.0230 - val_loss: 0.0219 - val_accuracy: 0.0078 - val_mse: 0.0219\n",
      "Epoch 29/50\n",
      "11585/11585 [==============================] - 0s 42us/step - loss: 0.0229 - accuracy: 0.0082 - mse: 0.0229 - val_loss: 0.0218 - val_accuracy: 0.0078 - val_mse: 0.0218\n",
      "Epoch 30/50\n",
      "11585/11585 [==============================] - 0s 40us/step - loss: 0.0228 - accuracy: 0.0082 - mse: 0.0228 - val_loss: 0.0219 - val_accuracy: 0.0078 - val_mse: 0.0219\n",
      "Epoch 31/50\n",
      "11585/11585 [==============================] - 1s 44us/step - loss: 0.0228 - accuracy: 0.0082 - mse: 0.0228 - val_loss: 0.0220 - val_accuracy: 0.0078 - val_mse: 0.0220\n",
      "Epoch 32/50\n",
      "11585/11585 [==============================] - 0s 39us/step - loss: 0.0228 - accuracy: 0.0082 - mse: 0.0228 - val_loss: 0.0218 - val_accuracy: 0.0078 - val_mse: 0.0218\n",
      "Epoch 33/50\n",
      "11585/11585 [==============================] - 0s 41us/step - loss: 0.0228 - accuracy: 0.0082 - mse: 0.0228 - val_loss: 0.0218 - val_accuracy: 0.0078 - val_mse: 0.0218\n",
      "Epoch 34/50\n",
      "11585/11585 [==============================] - 0s 39us/step - loss: 0.0228 - accuracy: 0.0082 - mse: 0.0228 - val_loss: 0.0216 - val_accuracy: 0.0078 - val_mse: 0.0216\n",
      "Epoch 35/50\n",
      "11585/11585 [==============================] - 0s 40us/step - loss: 0.0228 - accuracy: 0.0082 - mse: 0.0228 - val_loss: 0.0218 - val_accuracy: 0.0078 - val_mse: 0.0218\n",
      "Epoch 36/50\n",
      "11585/11585 [==============================] - 0s 38us/step - loss: 0.0228 - accuracy: 0.0082 - mse: 0.0228 - val_loss: 0.0218 - val_accuracy: 0.0078 - val_mse: 0.0218\n",
      "Epoch 37/50\n",
      "11585/11585 [==============================] - 0s 39us/step - loss: 0.0229 - accuracy: 0.0082 - mse: 0.0229 - val_loss: 0.0219 - val_accuracy: 0.0078 - val_mse: 0.0219\n",
      "Epoch 38/50\n",
      "11585/11585 [==============================] - 0s 39us/step - loss: 0.0229 - accuracy: 0.0082 - mse: 0.0229 - val_loss: 0.0218 - val_accuracy: 0.0078 - val_mse: 0.0218\n",
      "Epoch 39/50\n",
      "11585/11585 [==============================] - 1s 44us/step - loss: 0.0226 - accuracy: 0.0082 - mse: 0.0226 - val_loss: 0.0218 - val_accuracy: 0.0078 - val_mse: 0.0218\n",
      "Epoch 40/50\n"
     ]
    },
    {
     "name": "stdout",
     "output_type": "stream",
     "text": [
      "11585/11585 [==============================] - 0s 38us/step - loss: 0.0228 - accuracy: 0.0082 - mse: 0.0228 - val_loss: 0.0216 - val_accuracy: 0.0078 - val_mse: 0.0216\n",
      "Epoch 41/50\n",
      "11585/11585 [==============================] - 1s 45us/step - loss: 0.0226 - accuracy: 0.0082 - mse: 0.0226 - val_loss: 0.0224 - val_accuracy: 0.0078 - val_mse: 0.0224\n",
      "Epoch 42/50\n",
      "11585/11585 [==============================] - 0s 40us/step - loss: 0.0225 - accuracy: 0.0082 - mse: 0.0225 - val_loss: 0.0218 - val_accuracy: 0.0078 - val_mse: 0.0218\n",
      "Epoch 43/50\n",
      "11585/11585 [==============================] - 0s 37us/step - loss: 0.0227 - accuracy: 0.0082 - mse: 0.0227 - val_loss: 0.0220 - val_accuracy: 0.0078 - val_mse: 0.0220\n",
      "Epoch 44/50\n",
      "11585/11585 [==============================] - 0s 38us/step - loss: 0.0226 - accuracy: 0.0082 - mse: 0.0226 - val_loss: 0.0219 - val_accuracy: 0.0078 - val_mse: 0.0219\n",
      "Epoch 45/50\n",
      "11585/11585 [==============================] - 0s 37us/step - loss: 0.0227 - accuracy: 0.0082 - mse: 0.0227 - val_loss: 0.0217 - val_accuracy: 0.0078 - val_mse: 0.0217\n",
      "Epoch 46/50\n",
      "11585/11585 [==============================] - 0s 38us/step - loss: 0.0228 - accuracy: 0.0082 - mse: 0.0228 - val_loss: 0.0218 - val_accuracy: 0.0078 - val_mse: 0.0218\n",
      "Epoch 47/50\n",
      "11585/11585 [==============================] - 0s 40us/step - loss: 0.0226 - accuracy: 0.0082 - mse: 0.0226 - val_loss: 0.0216 - val_accuracy: 0.0078 - val_mse: 0.0216\n",
      "Epoch 48/50\n",
      "11585/11585 [==============================] - 0s 38us/step - loss: 0.0226 - accuracy: 0.0082 - mse: 0.0226 - val_loss: 0.0220 - val_accuracy: 0.0078 - val_mse: 0.0220\n",
      "Epoch 49/50\n",
      "11585/11585 [==============================] - 0s 37us/step - loss: 0.0225 - accuracy: 0.0082 - mse: 0.0225 - val_loss: 0.0220 - val_accuracy: 0.0078 - val_mse: 0.0220\n",
      "Epoch 50/50\n",
      "11585/11585 [==============================] - 0s 41us/step - loss: 0.0226 - accuracy: 0.0082 - mse: 0.0226 - val_loss: 0.0219 - val_accuracy: 0.0078 - val_mse: 0.0219\n"
     ]
    },
    {
     "data": {
      "text/plain": [
       "<keras.callbacks.callbacks.History at 0x227284bbdd8>"
      ]
     },
     "execution_count": 17,
     "metadata": {},
     "output_type": "execute_result"
    }
   ],
   "source": [
    "model = Sequential()\n",
    "model.add(Dense(100, activation = 'relu', input_dim = hourlyX_train.shape[1]))\n",
    "model.add(Dropout(0.2))\n",
    "model.add(Dense(50, activation = 'relu'))\n",
    "model.add(Dropout(0.2))\n",
    "model.add(Dense(1, activation = 'linear'))\n",
    "\n",
    "#print summary\n",
    "model.summary()\n",
    "\n",
    "# loss funtcion\n",
    "model.compile(loss = 'mean_squared_error',\n",
    "              optimizer = 'RMSprop',\n",
    "              metrics = ['accuracy', 'mse'])\n",
    "\n",
    "# fit the model\n",
    "model.fit(hourlyX_train,\n",
    "          hourlyy_train,\n",
    "          batch_size = 100,\n",
    "          epochs = 50,\n",
    "          validation_split = 1/6,\n",
    "          verbose = 1)"
   ]
  },
  {
   "cell_type": "code",
   "execution_count": 18,
   "metadata": {},
   "outputs": [],
   "source": [
    "# predict 'cnt'\n",
    "y_predh = model.predict(hourlyX_test)"
   ]
  },
  {
   "cell_type": "markdown",
   "metadata": {},
   "source": [
    "### Plotting true values (y) and predictions (y_pred) for Hourly Data Set"
   ]
  },
  {
   "cell_type": "code",
   "execution_count": 19,
   "metadata": {},
   "outputs": [],
   "source": [
    "hours = hourlyy_test.values"
   ]
  },
  {
   "cell_type": "code",
   "execution_count": 53,
   "metadata": {},
   "outputs": [
    {
     "data": {
      "image/png": "[encoded data removed]",
      "text/plain": [
       "<Figure size 864x432 with 1 Axes>"
      ]
     },
     "metadata": {
      "needs_background": "light"
     },
     "output_type": "display_data"
    }
   ],
   "source": [
    "plt.figure(figsize = (12,6))\n",
    "plt.plot(hours, label = \"True\")\n",
    "plt.plot(y_predh, label = \"Predictions\")\n",
    "plt.title('Hourly')\n",
    "plt.legend()\n",
    "plt.show()"
   ]
  },
  {
   "cell_type": "code",
   "execution_count": 21,
   "metadata": {},
   "outputs": [
    {
     "name": "stdout",
     "output_type": "stream",
     "text": [
      "3476/3476 [==============================] - 0s 32us/step\n",
      "The mean squared error is 0.013\n"
     ]
    }
   ],
   "source": [
    "print('The mean squared error is %.3f' % model.evaluate(hourlyX_test, hourlyy_test)[1])"
   ]
  }
 ],
 "metadata": {
  "kernelspec": {
   "display_name": "Python 3",
   "language": "python",
   "name": "python3"
  },
  "language_info": {
   "codemirror_mode": {
    "name": "ipython",
    "version": 3
   },
   "file_extension": ".py",
   "mimetype": "text/x-python",
   "name": "python",
   "nbconvert_exporter": "python",
   "pygments_lexer": "ipython3",
   "version": "3.7.3"
  }
 },
 "nbformat": 4,
 "nbformat_minor": 2
}
