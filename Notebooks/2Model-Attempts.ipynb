{
 "cells": [
  {
   "cell_type": "markdown",
   "metadata": {},
   "source": [
    "# Notes/ To Do\n",
    "- switch to simple neural net work instead\n",
    "- more comments"
   ]
  },
  {
   "cell_type": "markdown",
   "metadata": {},
   "source": [
    "# Using simple Deep Neural Network to predict Count of total rental bikes"
   ]
  },
  {
   "cell_type": "markdown",
   "metadata": {},
   "source": [
    "### Cleanning Data/Preprocessing\n",
    "During EDA, there weren't any Na's in the data set, but there were categorical data that should be converted to dummies. The 'cleanningData' function will get dummies for the categorical features. The categorical features are actually type 'int64' in this data set."
   ]
  },
  {
   "cell_type": "code",
   "execution_count": 1,
   "metadata": {},
   "outputs": [
    {
     "name": "stderr",
     "output_type": "stream",
     "text": [
      "Using TensorFlow backend.\n"
     ]
    }
   ],
   "source": [
    "import pandas as pd\n",
    "import numpy as np\n",
    "import matplotlib.pyplot as plt\n",
    "\n",
    "# to classify features\n",
    "from sklearn.ensemble import ExtraTreesClassifier\n",
    "from sklearn.datasets import make_classification\n",
    "\n",
    "# split data, need to redo this part with stratified split!!\n",
    "from sklearn.model_selection import train_test_split\n",
    "from sklearn.preprocessing import StandardScaler, MinMaxScaler\n",
    "\n",
    "# ConvNets\n",
    "import keras\n",
    "from keras.models import Sequential\n",
    "from keras.layers import Dense, Dropout\n",
    "from keras.optimizers import RMSprop"
   ]
  },
  {
   "cell_type": "code",
   "execution_count": 2,
   "metadata": {},
   "outputs": [],
   "source": [
    "dailyData = pd.read_csv('C:/Users/Jenny/Desktop/UOP-MSDS/2020Spring/ANLT_210_SoftwareMethods/Bikeshare/Data/daily.csv')\n",
    "hourlyData = pd.read_csv('C:/Users/Jenny/Desktop/UOP-MSDS/2020Spring/ANLT_210_SoftwareMethods/Bikeshare/Data/hourly.csv')"
   ]
  },
  {
   "cell_type": "code",
   "execution_count": 3,
   "metadata": {},
   "outputs": [
    {
     "data": {
      "text/html": [
       "<div>\n",
       "<style scoped>\n",
       "    .dataframe tbody tr th:only-of-type {\n",
       "        vertical-align: middle;\n",
       "    }\n",
       "\n",
       "    .dataframe tbody tr th {\n",
       "        vertical-align: top;\n",
       "    }\n",
       "\n",
       "    .dataframe thead th {\n",
       "        text-align: right;\n",
       "    }\n",
       "</style>\n",
       "<table border=\"1\" class=\"dataframe\">\n",
       "  <thead>\n",
       "    <tr style=\"text-align: right;\">\n",
       "      <th></th>\n",
       "      <th>instant</th>\n",
       "      <th>dteday</th>\n",
       "      <th>season</th>\n",
       "      <th>yr</th>\n",
       "      <th>mnth</th>\n",
       "      <th>holiday</th>\n",
       "      <th>weekday</th>\n",
       "      <th>workingday</th>\n",
       "      <th>weathersit</th>\n",
       "      <th>temp</th>\n",
       "      <th>atemp</th>\n",
       "      <th>hum</th>\n",
       "      <th>windspeed</th>\n",
       "      <th>casual</th>\n",
       "      <th>registered</th>\n",
       "      <th>cnt</th>\n",
       "    </tr>\n",
       "  </thead>\n",
       "  <tbody>\n",
       "    <tr>\n",
       "      <th>0</th>\n",
       "      <td>1</td>\n",
       "      <td>2011-01-01</td>\n",
       "      <td>1</td>\n",
       "      <td>0</td>\n",
       "      <td>1</td>\n",
       "      <td>0</td>\n",
       "      <td>6</td>\n",
       "      <td>0</td>\n",
       "      <td>2</td>\n",
       "      <td>0.344167</td>\n",
       "      <td>0.363625</td>\n",
       "      <td>0.805833</td>\n",
       "      <td>0.160446</td>\n",
       "      <td>331</td>\n",
       "      <td>654</td>\n",
       "      <td>985</td>\n",
       "    </tr>\n",
       "    <tr>\n",
       "      <th>1</th>\n",
       "      <td>2</td>\n",
       "      <td>2011-01-02</td>\n",
       "      <td>1</td>\n",
       "      <td>0</td>\n",
       "      <td>1</td>\n",
       "      <td>0</td>\n",
       "      <td>0</td>\n",
       "      <td>0</td>\n",
       "      <td>2</td>\n",
       "      <td>0.363478</td>\n",
       "      <td>0.353739</td>\n",
       "      <td>0.696087</td>\n",
       "      <td>0.248539</td>\n",
       "      <td>131</td>\n",
       "      <td>670</td>\n",
       "      <td>801</td>\n",
       "    </tr>\n",
       "    <tr>\n",
       "      <th>2</th>\n",
       "      <td>3</td>\n",
       "      <td>2011-01-03</td>\n",
       "      <td>1</td>\n",
       "      <td>0</td>\n",
       "      <td>1</td>\n",
       "      <td>0</td>\n",
       "      <td>1</td>\n",
       "      <td>1</td>\n",
       "      <td>1</td>\n",
       "      <td>0.196364</td>\n",
       "      <td>0.189405</td>\n",
       "      <td>0.437273</td>\n",
       "      <td>0.248309</td>\n",
       "      <td>120</td>\n",
       "      <td>1229</td>\n",
       "      <td>1349</td>\n",
       "    </tr>\n",
       "    <tr>\n",
       "      <th>3</th>\n",
       "      <td>4</td>\n",
       "      <td>2011-01-04</td>\n",
       "      <td>1</td>\n",
       "      <td>0</td>\n",
       "      <td>1</td>\n",
       "      <td>0</td>\n",
       "      <td>2</td>\n",
       "      <td>1</td>\n",
       "      <td>1</td>\n",
       "      <td>0.200000</td>\n",
       "      <td>0.212122</td>\n",
       "      <td>0.590435</td>\n",
       "      <td>0.160296</td>\n",
       "      <td>108</td>\n",
       "      <td>1454</td>\n",
       "      <td>1562</td>\n",
       "    </tr>\n",
       "    <tr>\n",
       "      <th>4</th>\n",
       "      <td>5</td>\n",
       "      <td>2011-01-05</td>\n",
       "      <td>1</td>\n",
       "      <td>0</td>\n",
       "      <td>1</td>\n",
       "      <td>0</td>\n",
       "      <td>3</td>\n",
       "      <td>1</td>\n",
       "      <td>1</td>\n",
       "      <td>0.226957</td>\n",
       "      <td>0.229270</td>\n",
       "      <td>0.436957</td>\n",
       "      <td>0.186900</td>\n",
       "      <td>82</td>\n",
       "      <td>1518</td>\n",
       "      <td>1600</td>\n",
       "    </tr>\n",
       "  </tbody>\n",
       "</table>\n",
       "</div>"
      ],
      "text/plain": [
       "   instant      dteday  season  yr  mnth  holiday  weekday  workingday  \\\n",
       "0        1  2011-01-01       1   0     1        0        6           0   \n",
       "1        2  2011-01-02       1   0     1        0        0           0   \n",
       "2        3  2011-01-03       1   0     1        0        1           1   \n",
       "3        4  2011-01-04       1   0     1        0        2           1   \n",
       "4        5  2011-01-05       1   0     1        0        3           1   \n",
       "\n",
       "   weathersit      temp     atemp       hum  windspeed  casual  registered  \\\n",
       "0           2  0.344167  0.363625  0.805833   0.160446     331         654   \n",
       "1           2  0.363478  0.353739  0.696087   0.248539     131         670   \n",
       "2           1  0.196364  0.189405  0.437273   0.248309     120        1229   \n",
       "3           1  0.200000  0.212122  0.590435   0.160296     108        1454   \n",
       "4           1  0.226957  0.229270  0.436957   0.186900      82        1518   \n",
       "\n",
       "    cnt  \n",
       "0   985  \n",
       "1   801  \n",
       "2  1349  \n",
       "3  1562  \n",
       "4  1600  "
      ]
     },
     "execution_count": 3,
     "metadata": {},
     "output_type": "execute_result"
    }
   ],
   "source": [
    "dailyData.head()"
   ]
  },
  {
   "cell_type": "code",
   "execution_count": 4,
   "metadata": {},
   "outputs": [
    {
     "data": {
      "text/plain": [
       "instant         int64\n",
       "dteday         object\n",
       "season          int64\n",
       "yr              int64\n",
       "mnth            int64\n",
       "holiday         int64\n",
       "weekday         int64\n",
       "workingday      int64\n",
       "weathersit      int64\n",
       "temp          float64\n",
       "atemp         float64\n",
       "hum           float64\n",
       "windspeed     float64\n",
       "casual          int64\n",
       "registered      int64\n",
       "cnt             int64\n",
       "dtype: object"
      ]
     },
     "execution_count": 4,
     "metadata": {},
     "output_type": "execute_result"
    }
   ],
   "source": [
    "dailyData.dtypes"
   ]
  },
  {
   "cell_type": "markdown",
   "metadata": {},
   "source": [
    "Same as in the EDA phase, we will remove features that aren't needed and repeative."
   ]
  },
  {
   "cell_type": "code",
   "execution_count": 5,
   "metadata": {},
   "outputs": [],
   "source": [
    "dailyData2 = dailyData.drop(['instant', 'dteday', 'casual', 'registered'], axis = 1)"
   ]
  },
  {
   "cell_type": "code",
   "execution_count": 6,
   "metadata": {},
   "outputs": [],
   "source": [
    "def cleaningData(df):\n",
    "    # taking out 'cnt', we don't want to get dummies for 'cnt'\n",
    "    dataset = df.drop(['cnt'], axis = 1)\n",
    "    \n",
    "    # making a list of possible categorical features\n",
    "    possibleCate = []\n",
    "    for i in range(len(dataset.columns)):\n",
    "        if dataset.dtypes[i] == 'int64':\n",
    "            possibleCate.append(dataset.columns[i])\n",
    "            \n",
    "    #get dummies for categorical features\n",
    "    for cat in possibleCate:\n",
    "        dataset = pd.concat([dataset, pd.get_dummies(dataset[cat], prefix = cat, dummy_na = False)], axis = 1)\n",
    "        dataset = dataset.drop(cat, axis = 1)\n",
    "    \n",
    "    # adding 'cnt' back into the data set\n",
    "    dataset = pd.concat([dataset, df['cnt']], axis = 1)\n",
    "    \n",
    "    return dataset\n",
    "    #print(possibleCate)"
   ]
  },
  {
   "cell_type": "code",
   "execution_count": 7,
   "metadata": {},
   "outputs": [],
   "source": [
    "dailyCate = cleaningData(dailyData2)"
   ]
  },
  {
   "cell_type": "code",
   "execution_count": 8,
   "metadata": {},
   "outputs": [
    {
     "data": {
      "text/html": [
       "<div>\n",
       "<style scoped>\n",
       "    .dataframe tbody tr th:only-of-type {\n",
       "        vertical-align: middle;\n",
       "    }\n",
       "\n",
       "    .dataframe tbody tr th {\n",
       "        vertical-align: top;\n",
       "    }\n",
       "\n",
       "    .dataframe thead th {\n",
       "        text-align: right;\n",
       "    }\n",
       "</style>\n",
       "<table border=\"1\" class=\"dataframe\">\n",
       "  <thead>\n",
       "    <tr style=\"text-align: right;\">\n",
       "      <th></th>\n",
       "      <th>temp</th>\n",
       "      <th>atemp</th>\n",
       "      <th>hum</th>\n",
       "      <th>windspeed</th>\n",
       "      <th>season_1</th>\n",
       "      <th>season_2</th>\n",
       "      <th>season_3</th>\n",
       "      <th>season_4</th>\n",
       "      <th>yr_0</th>\n",
       "      <th>yr_1</th>\n",
       "      <th>...</th>\n",
       "      <th>weekday_3</th>\n",
       "      <th>weekday_4</th>\n",
       "      <th>weekday_5</th>\n",
       "      <th>weekday_6</th>\n",
       "      <th>workingday_0</th>\n",
       "      <th>workingday_1</th>\n",
       "      <th>weathersit_1</th>\n",
       "      <th>weathersit_2</th>\n",
       "      <th>weathersit_3</th>\n",
       "      <th>cnt</th>\n",
       "    </tr>\n",
       "  </thead>\n",
       "  <tbody>\n",
       "    <tr>\n",
       "      <th>0</th>\n",
       "      <td>0.344167</td>\n",
       "      <td>0.363625</td>\n",
       "      <td>0.805833</td>\n",
       "      <td>0.160446</td>\n",
       "      <td>1</td>\n",
       "      <td>0</td>\n",
       "      <td>0</td>\n",
       "      <td>0</td>\n",
       "      <td>1</td>\n",
       "      <td>0</td>\n",
       "      <td>...</td>\n",
       "      <td>0</td>\n",
       "      <td>0</td>\n",
       "      <td>0</td>\n",
       "      <td>1</td>\n",
       "      <td>1</td>\n",
       "      <td>0</td>\n",
       "      <td>0</td>\n",
       "      <td>1</td>\n",
       "      <td>0</td>\n",
       "      <td>985</td>\n",
       "    </tr>\n",
       "    <tr>\n",
       "      <th>1</th>\n",
       "      <td>0.363478</td>\n",
       "      <td>0.353739</td>\n",
       "      <td>0.696087</td>\n",
       "      <td>0.248539</td>\n",
       "      <td>1</td>\n",
       "      <td>0</td>\n",
       "      <td>0</td>\n",
       "      <td>0</td>\n",
       "      <td>1</td>\n",
       "      <td>0</td>\n",
       "      <td>...</td>\n",
       "      <td>0</td>\n",
       "      <td>0</td>\n",
       "      <td>0</td>\n",
       "      <td>0</td>\n",
       "      <td>1</td>\n",
       "      <td>0</td>\n",
       "      <td>0</td>\n",
       "      <td>1</td>\n",
       "      <td>0</td>\n",
       "      <td>801</td>\n",
       "    </tr>\n",
       "    <tr>\n",
       "      <th>2</th>\n",
       "      <td>0.196364</td>\n",
       "      <td>0.189405</td>\n",
       "      <td>0.437273</td>\n",
       "      <td>0.248309</td>\n",
       "      <td>1</td>\n",
       "      <td>0</td>\n",
       "      <td>0</td>\n",
       "      <td>0</td>\n",
       "      <td>1</td>\n",
       "      <td>0</td>\n",
       "      <td>...</td>\n",
       "      <td>0</td>\n",
       "      <td>0</td>\n",
       "      <td>0</td>\n",
       "      <td>0</td>\n",
       "      <td>0</td>\n",
       "      <td>1</td>\n",
       "      <td>1</td>\n",
       "      <td>0</td>\n",
       "      <td>0</td>\n",
       "      <td>1349</td>\n",
       "    </tr>\n",
       "    <tr>\n",
       "      <th>3</th>\n",
       "      <td>0.200000</td>\n",
       "      <td>0.212122</td>\n",
       "      <td>0.590435</td>\n",
       "      <td>0.160296</td>\n",
       "      <td>1</td>\n",
       "      <td>0</td>\n",
       "      <td>0</td>\n",
       "      <td>0</td>\n",
       "      <td>1</td>\n",
       "      <td>0</td>\n",
       "      <td>...</td>\n",
       "      <td>0</td>\n",
       "      <td>0</td>\n",
       "      <td>0</td>\n",
       "      <td>0</td>\n",
       "      <td>0</td>\n",
       "      <td>1</td>\n",
       "      <td>1</td>\n",
       "      <td>0</td>\n",
       "      <td>0</td>\n",
       "      <td>1562</td>\n",
       "    </tr>\n",
       "    <tr>\n",
       "      <th>4</th>\n",
       "      <td>0.226957</td>\n",
       "      <td>0.229270</td>\n",
       "      <td>0.436957</td>\n",
       "      <td>0.186900</td>\n",
       "      <td>1</td>\n",
       "      <td>0</td>\n",
       "      <td>0</td>\n",
       "      <td>0</td>\n",
       "      <td>1</td>\n",
       "      <td>0</td>\n",
       "      <td>...</td>\n",
       "      <td>1</td>\n",
       "      <td>0</td>\n",
       "      <td>0</td>\n",
       "      <td>0</td>\n",
       "      <td>0</td>\n",
       "      <td>1</td>\n",
       "      <td>1</td>\n",
       "      <td>0</td>\n",
       "      <td>0</td>\n",
       "      <td>1600</td>\n",
       "    </tr>\n",
       "  </tbody>\n",
       "</table>\n",
       "<p>5 rows × 37 columns</p>\n",
       "</div>"
      ],
      "text/plain": [
       "       temp     atemp       hum  windspeed  season_1  season_2  season_3  \\\n",
       "0  0.344167  0.363625  0.805833   0.160446         1         0         0   \n",
       "1  0.363478  0.353739  0.696087   0.248539         1         0         0   \n",
       "2  0.196364  0.189405  0.437273   0.248309         1         0         0   \n",
       "3  0.200000  0.212122  0.590435   0.160296         1         0         0   \n",
       "4  0.226957  0.229270  0.436957   0.186900         1         0         0   \n",
       "\n",
       "   season_4  yr_0  yr_1  ...  weekday_3  weekday_4  weekday_5  weekday_6  \\\n",
       "0         0     1     0  ...          0          0          0          1   \n",
       "1         0     1     0  ...          0          0          0          0   \n",
       "2         0     1     0  ...          0          0          0          0   \n",
       "3         0     1     0  ...          0          0          0          0   \n",
       "4         0     1     0  ...          1          0          0          0   \n",
       "\n",
       "   workingday_0  workingday_1  weathersit_1  weathersit_2  weathersit_3   cnt  \n",
       "0             1             0             0             1             0   985  \n",
       "1             1             0             0             1             0   801  \n",
       "2             0             1             1             0             0  1349  \n",
       "3             0             1             1             0             0  1562  \n",
       "4             0             1             1             0             0  1600  \n",
       "\n",
       "[5 rows x 37 columns]"
      ]
     },
     "execution_count": 8,
     "metadata": {},
     "output_type": "execute_result"
    }
   ],
   "source": [
    "dailyCate.head()"
   ]
  },
  {
   "cell_type": "code",
   "execution_count": 9,
   "metadata": {},
   "outputs": [
    {
     "data": {
      "text/plain": [
       "(731, 37)"
      ]
     },
     "execution_count": 9,
     "metadata": {},
     "output_type": "execute_result"
    }
   ],
   "source": [
    "dailyCate.shape"
   ]
  },
  {
   "cell_type": "markdown",
   "metadata": {},
   "source": [
    "### Feature selection\n",
    "\n",
    "Using sklearn's ExtraTreesClassifier to determine which features to extract."
   ]
  },
  {
   "cell_type": "code",
   "execution_count": 22,
   "metadata": {},
   "outputs": [],
   "source": [
    "def featureSelect(dataset, n):\n",
    "    # splitting X (features) and y (output) to be used in ExtraTreesClassifier\n",
    "    X = dataset.drop(['cnt'], axis = 1)\n",
    "    y = dataset['cnt']\n",
    "\n",
    "    # bulid the model\n",
    "    extra_tree_forest = ExtraTreesClassifier(n_estimators = 100,\n",
    "                                             criterion = 'gini')\n",
    "\n",
    "    # train the model\n",
    "    extra_tree_forest.fit(X, y)\n",
    "\n",
    "    # compute importance of each feature\n",
    "    feature_importance = extra_tree_forest.feature_importances_\n",
    "\n",
    "    # Normalizing the individual importances \n",
    "    feature_importance_normalized = np.std([tree.feature_importances_ for tree in \n",
    "                                            extra_tree_forest.estimators_], \n",
    "                                            axis = 0)\n",
    "\n",
    "    # sort orderFeat from greatest to least\n",
    "    orderFeat = np.argsort(-feature_importance_normalized)\n",
    "\n",
    "    # top n features\n",
    "    featUsed = []\n",
    "    for i in range(n):\n",
    "        featUsed.append(X.columns[orderFeat[i]])\n",
    "        \n",
    "    xFeat = pd.DataFrame(dataset[featUsed])\n",
    "\n",
    "    return xFeat, y"
   ]
  },
  {
   "cell_type": "code",
   "execution_count": 23,
   "metadata": {},
   "outputs": [],
   "source": [
    "xfeat, y =  featureSelect(dailyCate, 10)"
   ]
  },
  {
   "cell_type": "code",
   "execution_count": 24,
   "metadata": {},
   "outputs": [
    {
     "data": {
      "text/html": [
       "<div>\n",
       "<style scoped>\n",
       "    .dataframe tbody tr th:only-of-type {\n",
       "        vertical-align: middle;\n",
       "    }\n",
       "\n",
       "    .dataframe tbody tr th {\n",
       "        vertical-align: top;\n",
       "    }\n",
       "\n",
       "    .dataframe thead th {\n",
       "        text-align: right;\n",
       "    }\n",
       "</style>\n",
       "<table border=\"1\" class=\"dataframe\">\n",
       "  <thead>\n",
       "    <tr style=\"text-align: right;\">\n",
       "      <th></th>\n",
       "      <th>atemp</th>\n",
       "      <th>windspeed</th>\n",
       "      <th>hum</th>\n",
       "      <th>temp</th>\n",
       "      <th>yr_0</th>\n",
       "      <th>yr_1</th>\n",
       "      <th>weekday_4</th>\n",
       "      <th>weekday_3</th>\n",
       "      <th>weathersit_2</th>\n",
       "      <th>weekday_6</th>\n",
       "    </tr>\n",
       "  </thead>\n",
       "  <tbody>\n",
       "    <tr>\n",
       "      <th>0</th>\n",
       "      <td>0.363625</td>\n",
       "      <td>0.160446</td>\n",
       "      <td>0.805833</td>\n",
       "      <td>0.344167</td>\n",
       "      <td>1</td>\n",
       "      <td>0</td>\n",
       "      <td>0</td>\n",
       "      <td>0</td>\n",
       "      <td>1</td>\n",
       "      <td>1</td>\n",
       "    </tr>\n",
       "    <tr>\n",
       "      <th>1</th>\n",
       "      <td>0.353739</td>\n",
       "      <td>0.248539</td>\n",
       "      <td>0.696087</td>\n",
       "      <td>0.363478</td>\n",
       "      <td>1</td>\n",
       "      <td>0</td>\n",
       "      <td>0</td>\n",
       "      <td>0</td>\n",
       "      <td>1</td>\n",
       "      <td>0</td>\n",
       "    </tr>\n",
       "    <tr>\n",
       "      <th>2</th>\n",
       "      <td>0.189405</td>\n",
       "      <td>0.248309</td>\n",
       "      <td>0.437273</td>\n",
       "      <td>0.196364</td>\n",
       "      <td>1</td>\n",
       "      <td>0</td>\n",
       "      <td>0</td>\n",
       "      <td>0</td>\n",
       "      <td>0</td>\n",
       "      <td>0</td>\n",
       "    </tr>\n",
       "    <tr>\n",
       "      <th>3</th>\n",
       "      <td>0.212122</td>\n",
       "      <td>0.160296</td>\n",
       "      <td>0.590435</td>\n",
       "      <td>0.200000</td>\n",
       "      <td>1</td>\n",
       "      <td>0</td>\n",
       "      <td>0</td>\n",
       "      <td>0</td>\n",
       "      <td>0</td>\n",
       "      <td>0</td>\n",
       "    </tr>\n",
       "    <tr>\n",
       "      <th>4</th>\n",
       "      <td>0.229270</td>\n",
       "      <td>0.186900</td>\n",
       "      <td>0.436957</td>\n",
       "      <td>0.226957</td>\n",
       "      <td>1</td>\n",
       "      <td>0</td>\n",
       "      <td>0</td>\n",
       "      <td>1</td>\n",
       "      <td>0</td>\n",
       "      <td>0</td>\n",
       "    </tr>\n",
       "  </tbody>\n",
       "</table>\n",
       "</div>"
      ],
      "text/plain": [
       "      atemp  windspeed       hum      temp  yr_0  yr_1  weekday_4  weekday_3  \\\n",
       "0  0.363625   0.160446  0.805833  0.344167     1     0          0          0   \n",
       "1  0.353739   0.248539  0.696087  0.363478     1     0          0          0   \n",
       "2  0.189405   0.248309  0.437273  0.196364     1     0          0          0   \n",
       "3  0.212122   0.160296  0.590435  0.200000     1     0          0          0   \n",
       "4  0.229270   0.186900  0.436957  0.226957     1     0          0          1   \n",
       "\n",
       "   weathersit_2  weekday_6  \n",
       "0             1          1  \n",
       "1             1          0  \n",
       "2             0          0  \n",
       "3             0          0  \n",
       "4             0          0  "
      ]
     },
     "execution_count": 24,
     "metadata": {},
     "output_type": "execute_result"
    }
   ],
   "source": [
    "xfeat.head()"
   ]
  },
  {
   "cell_type": "markdown",
   "metadata": {},
   "source": [
    "### Split and normalize the data\n",
    "The split will be 80% for train and 20% for test. The data set is normalized using StandardScaler from sklearns."
   ]
  },
  {
   "cell_type": "code",
   "execution_count": 25,
   "metadata": {},
   "outputs": [],
   "source": [
    "def splitData(x, y):\n",
    "    # split data to X_train, X_test, y_train, y_test:\n",
    "    X_train, X_test, y_train, y_test = train_test_split(x, y, test_size = 0.2, random_state = 0)\n",
    "    \n",
    "    return X_train, X_test, y_train, y_test"
   ]
  },
  {
   "cell_type": "code",
   "execution_count": 26,
   "metadata": {},
   "outputs": [],
   "source": [
    "dailyX_train, dailyX_test, dailyy_train, dailyy_test = splitData(xfeat, y)"
   ]
  },
  {
   "cell_type": "code",
   "execution_count": 28,
   "metadata": {},
   "outputs": [],
   "source": [
    "# normalize\n",
    "sc = MinMaxScaler(feature_range=(0, 1))\n",
    "dailyX_train = sc.fit_transform(dailyX_train)\n",
    "dailyX_test = sc.transform(dailyX_test)"
   ]
  },
  {
   "cell_type": "markdown",
   "metadata": {},
   "source": [
    "### Simple Deep Neural Net"
   ]
  },
  {
   "cell_type": "code",
   "execution_count": 39,
   "metadata": {},
   "outputs": [],
   "source": [
    "def deepNNModel(xtrain, ytrain, xtest):\n",
    "    model = Sequential()\n",
    "    model.add(Dense(10, activation = 'relu', input_dim = len(xtrain[1])))\n",
    "    model.add(Dropout(0.2))\n",
    "    model.add(Dense(5, activation = 'relu'))\n",
    "    model.add(Dropout(0.2))\n",
    "    model.add(Dense(1, activation = 'linear'))\n",
    "    \n",
    "    #print summary\n",
    "    model.summary()\n",
    "    \n",
    "    # loss funtcion\n",
    "    model.compile(loss = 'mean_squared_error',\n",
    "                  optimizer = 'RMSprop',\n",
    "                  metrics = ['accuracy', 'mse'])\n",
    "\n",
    "    # fit the model\n",
    "    model.fit(xtrain,\n",
    "              ytrain,\n",
    "              batch_size = 100,\n",
    "              epochs = 50,\n",
    "              validation_split = 1/6,\n",
    "              verbose = 1)\n",
    "\n",
    "    # predict 'Flag'\n",
    "    yprobability = model.predict(xtest)\n",
    "    \n",
    "    return yprobability, model"
   ]
  },
  {
   "cell_type": "code",
   "execution_count": 40,
   "metadata": {},
   "outputs": [
    {
     "name": "stdout",
     "output_type": "stream",
     "text": [
      "Model: \"sequential_3\"\n",
      "_________________________________________________________________\n",
      "Layer (type)                 Output Shape              Param #   \n",
      "=================================================================\n",
      "dense_7 (Dense)              (None, 10)                110       \n",
      "_________________________________________________________________\n",
      "dropout_5 (Dropout)          (None, 10)                0         \n",
      "_________________________________________________________________\n",
      "dense_8 (Dense)              (None, 5)                 55        \n",
      "_________________________________________________________________\n",
      "dropout_6 (Dropout)          (None, 5)                 0         \n",
      "_________________________________________________________________\n",
      "dense_9 (Dense)              (None, 1)                 6         \n",
      "=================================================================\n",
      "Total params: 171\n",
      "Trainable params: 171\n",
      "Non-trainable params: 0\n",
      "_________________________________________________________________\n",
      "Train on 486 samples, validate on 98 samples\n",
      "Epoch 1/50\n",
      "486/486 [==============================] - 1s 2ms/step - loss: 23608720.1975 - accuracy: 0.0000e+00 - mse: 23608718.0000 - val_loss: 25011566.0000 - val_accuracy: 0.0000e+00 - val_mse: 25011566.0000\n",
      "Epoch 2/50\n",
      "486/486 [==============================] - 0s 35us/step - loss: 23606623.7778 - accuracy: 0.0000e+00 - mse: 23606622.0000 - val_loss: 25009986.0000 - val_accuracy: 0.0000e+00 - val_mse: 25009986.0000\n",
      "Epoch 3/50\n",
      "486/486 [==============================] - 0s 35us/step - loss: 23605522.6008 - accuracy: 0.0000e+00 - mse: 23605522.0000 - val_loss: 25008654.0000 - val_accuracy: 0.0000e+00 - val_mse: 25008654.0000\n",
      "Epoch 4/50\n",
      "486/486 [==============================] - 0s 45us/step - loss: 23604094.3210 - accuracy: 0.0000e+00 - mse: 23604094.0000 - val_loss: 25007472.0000 - val_accuracy: 0.0000e+00 - val_mse: 25007472.0000\n",
      "Epoch 5/50\n",
      "486/486 [==============================] - 0s 39us/step - loss: 23602733.1605 - accuracy: 0.0000e+00 - mse: 23602732.0000 - val_loss: 25006388.0000 - val_accuracy: 0.0000e+00 - val_mse: 25006388.0000\n",
      "Epoch 6/50\n",
      "486/486 [==============================] - 0s 37us/step - loss: 23601597.4650 - accuracy: 0.0000e+00 - mse: 23601596.0000 - val_loss: 25005346.0000 - val_accuracy: 0.0000e+00 - val_mse: 25005346.0000\n",
      "Epoch 7/50\n",
      "486/486 [==============================] - 0s 39us/step - loss: 23600766.5432 - accuracy: 0.0000e+00 - mse: 23600766.0000 - val_loss: 25004338.0000 - val_accuracy: 0.0000e+00 - val_mse: 25004338.0000\n",
      "Epoch 8/50\n",
      "486/486 [==============================] - 0s 41us/step - loss: 23600128.5844 - accuracy: 0.0000e+00 - mse: 23600128.0000 - val_loss: 25003358.0000 - val_accuracy: 0.0000e+00 - val_mse: 25003358.0000\n",
      "Epoch 9/50\n",
      "486/486 [==============================] - 0s 43us/step - loss: 23599245.2675 - accuracy: 0.0000e+00 - mse: 23599246.0000 - val_loss: 25002420.0000 - val_accuracy: 0.0000e+00 - val_mse: 25002420.0000\n",
      "Epoch 10/50\n",
      "486/486 [==============================] - 0s 45us/step - loss: 23598066.8971 - accuracy: 0.0000e+00 - mse: 23598068.0000 - val_loss: 25001568.0000 - val_accuracy: 0.0000e+00 - val_mse: 25001568.0000\n",
      "Epoch 11/50\n",
      "486/486 [==============================] - 0s 45us/step - loss: 23597743.8765 - accuracy: 0.0000e+00 - mse: 23597744.0000 - val_loss: 25000722.0000 - val_accuracy: 0.0000e+00 - val_mse: 25000722.0000\n",
      "Epoch 12/50\n",
      "486/486 [==============================] - 0s 39us/step - loss: 23596655.1770 - accuracy: 0.0000e+00 - mse: 23596656.0000 - val_loss: 24999978.0000 - val_accuracy: 0.0000e+00 - val_mse: 24999978.0000\n",
      "Epoch 13/50\n",
      "486/486 [==============================] - 0s 45us/step - loss: 23596097.0864 - accuracy: 0.0000e+00 - mse: 23596098.0000 - val_loss: 24999288.0000 - val_accuracy: 0.0000e+00 - val_mse: 24999288.0000\n",
      "Epoch 14/50\n",
      "486/486 [==============================] - 0s 33us/step - loss: 23595705.6461 - accuracy: 0.0000e+00 - mse: 23595706.0000 - val_loss: 24998608.0000 - val_accuracy: 0.0000e+00 - val_mse: 24998608.0000\n",
      "Epoch 15/50\n",
      "486/486 [==============================] - ETA: 0s - loss: 23455050.0000 - accuracy: 0.0000e+00 - mse: 23455050.00 - 0s 39us/step - loss: 23594950.6008 - accuracy: 0.0000e+00 - mse: 23594950.0000 - val_loss: 24997980.0000 - val_accuracy: 0.0000e+00 - val_mse: 24997980.0000\n",
      "Epoch 16/50\n",
      "486/486 [==============================] - 0s 43us/step - loss: 23594338.8807 - accuracy: 0.0000e+00 - mse: 23594338.0000 - val_loss: 24997376.0000 - val_accuracy: 0.0000e+00 - val_mse: 24997376.0000\n",
      "Epoch 17/50\n",
      "486/486 [==============================] - 0s 43us/step - loss: 23593957.4568 - accuracy: 0.0000e+00 - mse: 23593958.0000 - val_loss: 24996806.0000 - val_accuracy: 0.0000e+00 - val_mse: 24996806.0000\n",
      "Epoch 18/50\n",
      "486/486 [==============================] - 0s 41us/step - loss: 23593442.3210 - accuracy: 0.0000e+00 - mse: 23593442.0000 - val_loss: 24996286.0000 - val_accuracy: 0.0000e+00 - val_mse: 24996286.0000\n",
      "Epoch 19/50\n",
      "486/486 [==============================] - 0s 33us/step - loss: 23592742.8148 - accuracy: 0.0000e+00 - mse: 23592742.0000 - val_loss: 24995838.0000 - val_accuracy: 0.0000e+00 - val_mse: 24995838.0000\n",
      "Epoch 20/50\n",
      "486/486 [==============================] - 0s 41us/step - loss: 23592386.1646 - accuracy: 0.0000e+00 - mse: 23592386.0000 - val_loss: 24995416.0000 - val_accuracy: 0.0000e+00 - val_mse: 24995416.0000\n",
      "Epoch 21/50\n",
      "486/486 [==============================] - 0s 37us/step - loss: 23592259.3416 - accuracy: 0.0000e+00 - mse: 23592260.0000 - val_loss: 24995064.0000 - val_accuracy: 0.0000e+00 - val_mse: 24995064.0000\n",
      "Epoch 22/50\n",
      "486/486 [==============================] - 0s 43us/step - loss: 23591739.7778 - accuracy: 0.0000e+00 - mse: 23591740.0000 - val_loss: 24994762.0000 - val_accuracy: 0.0000e+00 - val_mse: 24994762.0000\n",
      "Epoch 23/50\n",
      "486/486 [==============================] - ETA: 0s - loss: 25635322.0000 - accuracy: 0.0000e+00 - mse: 25635322.00 - 0s 37us/step - loss: 23591492.1564 - accuracy: 0.0000e+00 - mse: 23591492.0000 - val_loss: 24994500.0000 - val_accuracy: 0.0000e+00 - val_mse: 24994500.0000\n",
      "Epoch 24/50\n",
      "486/486 [==============================] - 0s 37us/step - loss: 23591259.2922 - accuracy: 0.0000e+00 - mse: 23591258.0000 - val_loss: 24994242.0000 - val_accuracy: 0.0000e+00 - val_mse: 24994242.0000\n",
      "Epoch 25/50\n",
      "486/486 [==============================] - 0s 41us/step - loss: 23590777.7695 - accuracy: 0.0000e+00 - mse: 23590780.0000 - val_loss: 24994000.0000 - val_accuracy: 0.0000e+00 - val_mse: 24994000.0000\n",
      "Epoch 26/50\n",
      "486/486 [==============================] - 0s 35us/step - loss: 23590636.3292 - accuracy: 0.0000e+00 - mse: 23590636.0000 - val_loss: 24993792.0000 - val_accuracy: 0.0000e+00 - val_mse: 24993792.0000\n",
      "Epoch 27/50\n",
      "486/486 [==============================] - 0s 39us/step - loss: 23590283.4733 - accuracy: 0.0000e+00 - mse: 23590284.0000 - val_loss: 24993568.0000 - val_accuracy: 0.0000e+00 - val_mse: 24993568.0000\n",
      "Epoch 28/50\n",
      "486/486 [==============================] - 0s 39us/step - loss: 23590101.9918 - accuracy: 0.0000e+00 - mse: 23590102.0000 - val_loss: 24993330.0000 - val_accuracy: 0.0000e+00 - val_mse: 24993330.0000\n",
      "Epoch 29/50\n",
      "486/486 [==============================] - 0s 41us/step - loss: 23589912.2963 - accuracy: 0.0000e+00 - mse: 23589914.0000 - val_loss: 24993082.0000 - val_accuracy: 0.0000e+00 - val_mse: 24993082.0000\n",
      "Epoch 30/50\n",
      "486/486 [==============================] - 0s 47us/step - loss: 23589424.5103 - accuracy: 0.0000e+00 - mse: 23589424.0000 - val_loss: 24992816.0000 - val_accuracy: 0.0000e+00 - val_mse: 24992816.0000\n",
      "Epoch 31/50\n",
      "486/486 [==============================] - 0s 41us/step - loss: 23589149.2922 - accuracy: 0.0000e+00 - mse: 23589148.0000 - val_loss: 24992538.0000 - val_accuracy: 0.0000e+00 - val_mse: 24992538.0000\n",
      "Epoch 32/50\n",
      "486/486 [==============================] - 0s 41us/step - loss: 23588989.6214 - accuracy: 0.0000e+00 - mse: 23588990.0000 - val_loss: 24992254.0000 - val_accuracy: 0.0000e+00 - val_mse: 24992254.0000\n",
      "Epoch 33/50\n",
      "486/486 [==============================] - 0s 45us/step - loss: 23588769.4321 - accuracy: 0.0000e+00 - mse: 23588770.0000 - val_loss: 24991950.0000 - val_accuracy: 0.0000e+00 - val_mse: 24991950.0000\n",
      "Epoch 34/50\n"
     ]
    },
    {
     "name": "stdout",
     "output_type": "stream",
     "text": [
      "486/486 [==============================] - 0s 37us/step - loss: 23588251.1770 - accuracy: 0.0000e+00 - mse: 23588250.0000 - val_loss: 24991618.0000 - val_accuracy: 0.0000e+00 - val_mse: 24991618.0000\n",
      "Epoch 35/50\n",
      "486/486 [==============================] - 0s 39us/step - loss: 23587830.0741 - accuracy: 0.0000e+00 - mse: 23587832.0000 - val_loss: 24991286.0000 - val_accuracy: 0.0000e+00 - val_mse: 24991286.0000\n",
      "Epoch 36/50\n",
      "486/486 [==============================] - 0s 39us/step - loss: 23587619.6461 - accuracy: 0.0000e+00 - mse: 23587620.0000 - val_loss: 24990944.0000 - val_accuracy: 0.0000e+00 - val_mse: 24990944.0000\n",
      "Epoch 37/50\n",
      "486/486 [==============================] - 0s 39us/step - loss: 23587386.1481 - accuracy: 0.0000e+00 - mse: 23587384.0000 - val_loss: 24990594.0000 - val_accuracy: 0.0000e+00 - val_mse: 24990594.0000\n",
      "Epoch 38/50\n",
      "486/486 [==============================] - 0s 37us/step - loss: 23587048.9136 - accuracy: 0.0000e+00 - mse: 23587048.0000 - val_loss: 24990240.0000 - val_accuracy: 0.0000e+00 - val_mse: 24990240.0000\n",
      "Epoch 39/50\n",
      "486/486 [==============================] - 0s 41us/step - loss: 23586644.0494 - accuracy: 0.0000e+00 - mse: 23586644.0000 - val_loss: 24989872.0000 - val_accuracy: 0.0000e+00 - val_mse: 24989872.0000\n",
      "Epoch 40/50\n",
      "486/486 [==============================] - 0s 43us/step - loss: 23586325.8519 - accuracy: 0.0000e+00 - mse: 23586326.0000 - val_loss: 24989488.0000 - val_accuracy: 0.0000e+00 - val_mse: 24989488.0000\n",
      "Epoch 41/50\n",
      "486/486 [==============================] - 0s 41us/step - loss: 23585679.0782 - accuracy: 0.0000e+00 - mse: 23585680.0000 - val_loss: 24989074.0000 - val_accuracy: 0.0000e+00 - val_mse: 24989074.0000\n",
      "Epoch 42/50\n",
      "486/486 [==============================] - 0s 35us/step - loss: 23585545.5720 - accuracy: 0.0000e+00 - mse: 23585548.0000 - val_loss: 24988666.0000 - val_accuracy: 0.0000e+00 - val_mse: 24988666.0000\n",
      "Epoch 43/50\n",
      "486/486 [==============================] - 0s 37us/step - loss: 23584803.9342 - accuracy: 0.0000e+00 - mse: 23584804.0000 - val_loss: 24988236.0000 - val_accuracy: 0.0000e+00 - val_mse: 24988236.0000\n",
      "Epoch 44/50\n",
      "486/486 [==============================] - 0s 43us/step - loss: 23584595.4897 - accuracy: 0.0000e+00 - mse: 23584596.0000 - val_loss: 24987808.0000 - val_accuracy: 0.0000e+00 - val_mse: 24987808.0000\n",
      "Epoch 45/50\n",
      "486/486 [==============================] - 0s 39us/step - loss: 23584077.6790 - accuracy: 0.0000e+00 - mse: 23584080.0000 - val_loss: 24987364.0000 - val_accuracy: 0.0000e+00 - val_mse: 24987364.0000\n",
      "Epoch 46/50\n",
      "486/486 [==============================] - 0s 41us/step - loss: 23584171.4733 - accuracy: 0.0000e+00 - mse: 23584170.0000 - val_loss: 24986938.0000 - val_accuracy: 0.0000e+00 - val_mse: 24986938.0000\n",
      "Epoch 47/50\n",
      "486/486 [==============================] - 0s 39us/step - loss: 23583308.3951 - accuracy: 0.0000e+00 - mse: 23583308.0000 - val_loss: 24986468.0000 - val_accuracy: 0.0000e+00 - val_mse: 24986468.0000\n",
      "Epoch 48/50\n",
      "486/486 [==============================] - 0s 43us/step - loss: 23583144.7325 - accuracy: 0.0000e+00 - mse: 23583144.0000 - val_loss: 24985994.0000 - val_accuracy: 0.0000e+00 - val_mse: 24985994.0000\n",
      "Epoch 49/50\n",
      "486/486 [==============================] - 0s 37us/step - loss: 23583097.7284 - accuracy: 0.0000e+00 - mse: 23583100.0000 - val_loss: 24985530.0000 - val_accuracy: 0.0000e+00 - val_mse: 24985530.0000\n",
      "Epoch 50/50\n",
      "486/486 [==============================] - 0s 39us/step - loss: 23582132.6914 - accuracy: 0.0000e+00 - mse: 23582134.0000 - val_loss: 24985008.0000 - val_accuracy: 0.0000e+00 - val_mse: 24985008.0000\n"
     ]
    }
   ],
   "source": [
    "y_pred, model = deepNNModel(dailyX_train, dailyy_train, dailyX_test)"
   ]
  },
  {
   "cell_type": "markdown",
   "metadata": {},
   "source": [
    "### Plotting true values (y) and predictions (y_pred)"
   ]
  },
  {
   "cell_type": "code",
   "execution_count": 31,
   "metadata": {},
   "outputs": [
    {
     "data": {
      "text/plain": [
       "(147, 1)"
      ]
     },
     "execution_count": 31,
     "metadata": {},
     "output_type": "execute_result"
    }
   ],
   "source": [
    "y_pred.shape"
   ]
  },
  {
   "cell_type": "code",
   "execution_count": 32,
   "metadata": {},
   "outputs": [
    {
     "data": {
      "text/plain": [
       "(147,)"
      ]
     },
     "execution_count": 32,
     "metadata": {},
     "output_type": "execute_result"
    }
   ],
   "source": [
    "dailyy_test.shape"
   ]
  },
  {
   "cell_type": "code",
   "execution_count": 33,
   "metadata": {},
   "outputs": [
    {
     "data": {
      "text/plain": [
       "pandas.core.series.Series"
      ]
     },
     "execution_count": 33,
     "metadata": {},
     "output_type": "execute_result"
    }
   ],
   "source": [
    "type(dailyy_test)"
   ]
  },
  {
   "cell_type": "code",
   "execution_count": 34,
   "metadata": {},
   "outputs": [
    {
     "ename": "ValueError",
     "evalue": "non-broadcastable output operand with shape (147,1) doesn't match the broadcast shape (147,10)",
     "output_type": "error",
     "traceback": [
      "\u001b[1;31m---------------------------------------------------------------------------\u001b[0m",
      "\u001b[1;31mValueError\u001b[0m                                Traceback (most recent call last)",
      "\u001b[1;32m<ipython-input-34-6026908f7cb0>\u001b[0m in \u001b[0;36m<module>\u001b[1;34m\u001b[0m\n\u001b[0;32m      4\u001b[0m \u001b[0mplt\u001b[0m\u001b[1;33m.\u001b[0m\u001b[0mplot\u001b[0m\u001b[1;33m(\u001b[0m\u001b[0my_pred\u001b[0m\u001b[1;33m,\u001b[0m \u001b[0mlabel\u001b[0m \u001b[1;33m=\u001b[0m \u001b[1;34m\"Predictions\"\u001b[0m\u001b[1;33m)\u001b[0m\u001b[1;33m\u001b[0m\u001b[1;33m\u001b[0m\u001b[0m\n\u001b[0;32m      5\u001b[0m \u001b[1;31m#plt.plot(dailyy_test, label = \"True\")\u001b[0m\u001b[1;33m\u001b[0m\u001b[1;33m\u001b[0m\u001b[1;33m\u001b[0m\u001b[0m\n\u001b[1;32m----> 6\u001b[1;33m \u001b[0mplt\u001b[0m\u001b[1;33m.\u001b[0m\u001b[0mplot\u001b[0m\u001b[1;33m(\u001b[0m\u001b[0msc\u001b[0m\u001b[1;33m.\u001b[0m\u001b[0minverse_transform\u001b[0m\u001b[1;33m(\u001b[0m\u001b[0mnp\u001b[0m\u001b[1;33m.\u001b[0m\u001b[0marray\u001b[0m\u001b[1;33m(\u001b[0m\u001b[0mdailyy_test\u001b[0m\u001b[1;33m)\u001b[0m\u001b[1;33m.\u001b[0m\u001b[0mreshape\u001b[0m\u001b[1;33m(\u001b[0m\u001b[1;33m-\u001b[0m\u001b[1;36m1\u001b[0m\u001b[1;33m,\u001b[0m \u001b[1;36m1\u001b[0m\u001b[1;33m)\u001b[0m\u001b[1;33m)\u001b[0m\u001b[1;33m,\u001b[0m \u001b[0mlabel\u001b[0m \u001b[1;33m=\u001b[0m \u001b[1;34m\"True\"\u001b[0m\u001b[1;33m)\u001b[0m\u001b[1;33m\u001b[0m\u001b[1;33m\u001b[0m\u001b[0m\n\u001b[0m\u001b[0;32m      7\u001b[0m \u001b[0mplt\u001b[0m\u001b[1;33m.\u001b[0m\u001b[0mlegend\u001b[0m\u001b[1;33m(\u001b[0m\u001b[1;33m)\u001b[0m\u001b[1;33m\u001b[0m\u001b[1;33m\u001b[0m\u001b[0m\n\u001b[0;32m      8\u001b[0m \u001b[0mplt\u001b[0m\u001b[1;33m.\u001b[0m\u001b[0mshow\u001b[0m\u001b[1;33m(\u001b[0m\u001b[1;33m)\u001b[0m\u001b[1;33m\u001b[0m\u001b[1;33m\u001b[0m\u001b[0m\n",
      "\u001b[1;32m~\\Anaconda3\\lib\\site-packages\\sklearn\\preprocessing\\_data.py\u001b[0m in \u001b[0;36minverse_transform\u001b[1;34m(self, X)\u001b[0m\n\u001b[0;32m    434\u001b[0m                         force_all_finite=\"allow-nan\")\n\u001b[0;32m    435\u001b[0m \u001b[1;33m\u001b[0m\u001b[0m\n\u001b[1;32m--> 436\u001b[1;33m         \u001b[0mX\u001b[0m \u001b[1;33m-=\u001b[0m \u001b[0mself\u001b[0m\u001b[1;33m.\u001b[0m\u001b[0mmin_\u001b[0m\u001b[1;33m\u001b[0m\u001b[1;33m\u001b[0m\u001b[0m\n\u001b[0m\u001b[0;32m    437\u001b[0m         \u001b[0mX\u001b[0m \u001b[1;33m/=\u001b[0m \u001b[0mself\u001b[0m\u001b[1;33m.\u001b[0m\u001b[0mscale_\u001b[0m\u001b[1;33m\u001b[0m\u001b[1;33m\u001b[0m\u001b[0m\n\u001b[0;32m    438\u001b[0m         \u001b[1;32mreturn\u001b[0m \u001b[0mX\u001b[0m\u001b[1;33m\u001b[0m\u001b[1;33m\u001b[0m\u001b[0m\n",
      "\u001b[1;31mValueError\u001b[0m: non-broadcastable output operand with shape (147,1) doesn't match the broadcast shape (147,10)"
     ]
    },
    {
     "data": {
      "image/png": "[encoded data removed]",
      "text/plain": [
       "<Figure size 864x432 with 1 Axes>"
      ]
     },
     "metadata": {
      "needs_background": "light"
     },
     "output_type": "display_data"
    }
   ],
   "source": [
    "plt.figure(figsize = (12,6))\n",
    "#plt.plot(y_pred, label = \"Predictions\")\n",
    "#plt.plot(dailyy_test, label = \"True\")\n",
    "plt.plot(y_pred, label = \"Predictions\")\n",
    "#plt.plot(dailyy_test, label = \"True\")\n",
    "plt.plot(sc.inverse_transform(np.array(dailyy_test).reshape(-1, 1)), label = \"True\")\n",
    "plt.legend()\n",
    "plt.show()"
   ]
  },
  {
   "cell_type": "code",
   "execution_count": 41,
   "metadata": {},
   "outputs": [
    {
     "name": "stdout",
     "output_type": "stream",
     "text": [
      "147/147 [==============================] - 0s 54us/step\n",
      "The mean squared error is 0.000\n"
     ]
    }
   ],
   "source": [
    "print('The mean squared error is %.3f' % model.evaluate(dailyX_test, dailyy_test)[1])"
   ]
  },
  {
   "cell_type": "markdown",
   "metadata": {},
   "source": [
    "# Using Naive Bayes to predict Count of total rental bikes"
   ]
  },
  {
   "cell_type": "code",
   "execution_count": 1,
   "metadata": {},
   "outputs": [],
   "source": [
    "from sklearn.model_selection import train_test_split\n",
    "from sklearn.preprocessing import StandardScaler\n",
    "from sklearn.naive_bayes import GaussianNB\n"
   ]
  },
  {
   "cell_type": "code",
   "execution_count": 2,
   "metadata": {},
   "outputs": [],
   "source": [
    "# turns category data to numeric\n",
    "def categoryToNum(dataSet):\n",
    "    # import data\n",
    "    d = dataSet\n",
    "    # get column names of non numeric columns\n",
    "    stringCol = d.select_dtypes(include='dtype').columns.values\n",
    "    #setting dtype to category and converting category to numeric values\n",
    "    for colName in stringCol:\n",
    "        d[colName] = d[colName].astype('category')\n",
    "        d[colName] = d[colName].cat.codes\n",
    "    # run correlations and sort according to best\n",
    "    dataCorr = abs(d.corr(method = 'pearson')['cnt'])\n",
    "    dataCorr = dataCorr.drop(['cnt'])\n",
    "    sortCorr = (dataCorr[~np.isnan(dataCorr)]).sort_values(ascending = False)\n",
    "    return d, sortCorr"
   ]
  },
  {
   "cell_type": "code",
   "execution_count": 3,
   "metadata": {},
   "outputs": [],
   "source": [
    "# select x factors to predict y with at least 0.80 accuracy\n",
    "def selectXFeats(n):\n",
    "    #n = number of features\n",
    "    newData = pd.DataFrame()\n",
    "    newData['cnt'] = d['cnt']\n",
    "    for feat in range(n):\n",
    "        newData[sortCorr.index[feat]] = d[sortCorr.index[feat]]\n",
    "    return newData"
   ]
  },
  {
   "cell_type": "code",
   "execution_count": 11,
   "metadata": {},
   "outputs": [],
   "source": [
    "# this one starts the thing\n",
    "def dataSet(data, testProportion):\n",
    "    x = data.drop(['cnt'], axis = 1)\n",
    "    y = data['cnt']\n",
    "    nbGaus(x, y, testProportion)"
   ]
  },
  {
   "cell_type": "code",
   "execution_count": 5,
   "metadata": {},
   "outputs": [],
   "source": [
    "# function to get yTest (prediction) values\n",
    "def nbGaus(x, y, testProportion = 0.8):\n",
    "    XTrain, XTest, yTrain, yTest = train_test_split(x, y, test_size=testProportion)\n",
    "    gausNB = GaussianNB()\n",
    "    yPred = gausNB.fit(XTrain, yTrain).predict(XTrain)\n",
    "    accuracyRate = accuracy(yPred, yTrain)\n",
    "    if accuracyRate > 0.8:\n",
    "        print('Train: \\nAccuracy Rate:', accuracyRate *100, '% \\nFactors used:', list(x.columns))\n",
    "    else:\n",
    "        #add next feat to xData\n",
    "        data = selectXFeats(xdata.shape[1])\n",
    "        dataSet(data, 0.8)"
   ]
  },
  {
   "cell_type": "code",
   "execution_count": 6,
   "metadata": {},
   "outputs": [],
   "source": [
    "# function to get accuracy\n",
    "def accuracy(yPred, yTrain):\n",
    "    #accuracies = ((predictions == (df['passing'].values)).sum(axis=0)/len(df['passing']))\n",
    "    #accuracy = (fit.predict(Xs) == y).sum()/y.shape[0]\n",
    "    accuracyRate = ((yPred == yTrain).sum(axis=0)/len(yTrain))\n",
    "    return accuracyRate"
   ]
  },
  {
   "cell_type": "markdown",
   "metadata": {},
   "source": [
    "# Daily Data"
   ]
  },
  {
   "cell_type": "code",
   "execution_count": 7,
   "metadata": {},
   "outputs": [],
   "source": [
    "dailyData = pd.read_csv('C:/Users/Jenny/Desktop/UOP-MSDS/2020Spring/ANLT_210_SoftwareMethods/Bikeshare/Data/daily.csv')"
   ]
  },
  {
   "cell_type": "code",
   "execution_count": 8,
   "metadata": {},
   "outputs": [
    {
     "data": {
      "text/html": [
       "<div>\n",
       "<style scoped>\n",
       "    .dataframe tbody tr th:only-of-type {\n",
       "        vertical-align: middle;\n",
       "    }\n",
       "\n",
       "    .dataframe tbody tr th {\n",
       "        vertical-align: top;\n",
       "    }\n",
       "\n",
       "    .dataframe thead th {\n",
       "        text-align: right;\n",
       "    }\n",
       "</style>\n",
       "<table border=\"1\" class=\"dataframe\">\n",
       "  <thead>\n",
       "    <tr style=\"text-align: right;\">\n",
       "      <th></th>\n",
       "      <th>instant</th>\n",
       "      <th>dteday</th>\n",
       "      <th>season</th>\n",
       "      <th>yr</th>\n",
       "      <th>mnth</th>\n",
       "      <th>holiday</th>\n",
       "      <th>weekday</th>\n",
       "      <th>workingday</th>\n",
       "      <th>weathersit</th>\n",
       "      <th>temp</th>\n",
       "      <th>atemp</th>\n",
       "      <th>hum</th>\n",
       "      <th>windspeed</th>\n",
       "      <th>casual</th>\n",
       "      <th>registered</th>\n",
       "      <th>cnt</th>\n",
       "    </tr>\n",
       "  </thead>\n",
       "  <tbody>\n",
       "    <tr>\n",
       "      <th>0</th>\n",
       "      <td>1</td>\n",
       "      <td>2011-01-01</td>\n",
       "      <td>1</td>\n",
       "      <td>0</td>\n",
       "      <td>1</td>\n",
       "      <td>0</td>\n",
       "      <td>6</td>\n",
       "      <td>0</td>\n",
       "      <td>2</td>\n",
       "      <td>0.344167</td>\n",
       "      <td>0.363625</td>\n",
       "      <td>0.805833</td>\n",
       "      <td>0.160446</td>\n",
       "      <td>331</td>\n",
       "      <td>654</td>\n",
       "      <td>985</td>\n",
       "    </tr>\n",
       "    <tr>\n",
       "      <th>1</th>\n",
       "      <td>2</td>\n",
       "      <td>2011-01-02</td>\n",
       "      <td>1</td>\n",
       "      <td>0</td>\n",
       "      <td>1</td>\n",
       "      <td>0</td>\n",
       "      <td>0</td>\n",
       "      <td>0</td>\n",
       "      <td>2</td>\n",
       "      <td>0.363478</td>\n",
       "      <td>0.353739</td>\n",
       "      <td>0.696087</td>\n",
       "      <td>0.248539</td>\n",
       "      <td>131</td>\n",
       "      <td>670</td>\n",
       "      <td>801</td>\n",
       "    </tr>\n",
       "    <tr>\n",
       "      <th>2</th>\n",
       "      <td>3</td>\n",
       "      <td>2011-01-03</td>\n",
       "      <td>1</td>\n",
       "      <td>0</td>\n",
       "      <td>1</td>\n",
       "      <td>0</td>\n",
       "      <td>1</td>\n",
       "      <td>1</td>\n",
       "      <td>1</td>\n",
       "      <td>0.196364</td>\n",
       "      <td>0.189405</td>\n",
       "      <td>0.437273</td>\n",
       "      <td>0.248309</td>\n",
       "      <td>120</td>\n",
       "      <td>1229</td>\n",
       "      <td>1349</td>\n",
       "    </tr>\n",
       "    <tr>\n",
       "      <th>3</th>\n",
       "      <td>4</td>\n",
       "      <td>2011-01-04</td>\n",
       "      <td>1</td>\n",
       "      <td>0</td>\n",
       "      <td>1</td>\n",
       "      <td>0</td>\n",
       "      <td>2</td>\n",
       "      <td>1</td>\n",
       "      <td>1</td>\n",
       "      <td>0.200000</td>\n",
       "      <td>0.212122</td>\n",
       "      <td>0.590435</td>\n",
       "      <td>0.160296</td>\n",
       "      <td>108</td>\n",
       "      <td>1454</td>\n",
       "      <td>1562</td>\n",
       "    </tr>\n",
       "    <tr>\n",
       "      <th>4</th>\n",
       "      <td>5</td>\n",
       "      <td>2011-01-05</td>\n",
       "      <td>1</td>\n",
       "      <td>0</td>\n",
       "      <td>1</td>\n",
       "      <td>0</td>\n",
       "      <td>3</td>\n",
       "      <td>1</td>\n",
       "      <td>1</td>\n",
       "      <td>0.226957</td>\n",
       "      <td>0.229270</td>\n",
       "      <td>0.436957</td>\n",
       "      <td>0.186900</td>\n",
       "      <td>82</td>\n",
       "      <td>1518</td>\n",
       "      <td>1600</td>\n",
       "    </tr>\n",
       "  </tbody>\n",
       "</table>\n",
       "</div>"
      ],
      "text/plain": [
       "   instant      dteday  season  yr  mnth  holiday  weekday  workingday  \\\n",
       "0        1  2011-01-01       1   0     1        0        6           0   \n",
       "1        2  2011-01-02       1   0     1        0        0           0   \n",
       "2        3  2011-01-03       1   0     1        0        1           1   \n",
       "3        4  2011-01-04       1   0     1        0        2           1   \n",
       "4        5  2011-01-05       1   0     1        0        3           1   \n",
       "\n",
       "   weathersit      temp     atemp       hum  windspeed  casual  registered  \\\n",
       "0           2  0.344167  0.363625  0.805833   0.160446     331         654   \n",
       "1           2  0.363478  0.353739  0.696087   0.248539     131         670   \n",
       "2           1  0.196364  0.189405  0.437273   0.248309     120        1229   \n",
       "3           1  0.200000  0.212122  0.590435   0.160296     108        1454   \n",
       "4           1  0.226957  0.229270  0.436957   0.186900      82        1518   \n",
       "\n",
       "    cnt  \n",
       "0   985  \n",
       "1   801  \n",
       "2  1349  \n",
       "3  1562  \n",
       "4  1600  "
      ]
     },
     "execution_count": 8,
     "metadata": {},
     "output_type": "execute_result"
    }
   ],
   "source": [
    "dailyData.head()"
   ]
  },
  {
   "cell_type": "code",
   "execution_count": 14,
   "metadata": {},
   "outputs": [
    {
     "data": {
      "text/html": [
       "<div>\n",
       "<style scoped>\n",
       "    .dataframe tbody tr th:only-of-type {\n",
       "        vertical-align: middle;\n",
       "    }\n",
       "\n",
       "    .dataframe tbody tr th {\n",
       "        vertical-align: top;\n",
       "    }\n",
       "\n",
       "    .dataframe thead th {\n",
       "        text-align: right;\n",
       "    }\n",
       "</style>\n",
       "<table border=\"1\" class=\"dataframe\">\n",
       "  <thead>\n",
       "    <tr style=\"text-align: right;\">\n",
       "      <th></th>\n",
       "      <th>instant</th>\n",
       "      <th>dteday</th>\n",
       "      <th>season</th>\n",
       "      <th>yr</th>\n",
       "      <th>mnth</th>\n",
       "      <th>holiday</th>\n",
       "      <th>weekday</th>\n",
       "      <th>workingday</th>\n",
       "      <th>weathersit</th>\n",
       "      <th>temp</th>\n",
       "      <th>atemp</th>\n",
       "      <th>hum</th>\n",
       "      <th>windspeed</th>\n",
       "      <th>cnt</th>\n",
       "    </tr>\n",
       "  </thead>\n",
       "  <tbody>\n",
       "    <tr>\n",
       "      <th>0</th>\n",
       "      <td>1</td>\n",
       "      <td>0</td>\n",
       "      <td>1</td>\n",
       "      <td>0</td>\n",
       "      <td>1</td>\n",
       "      <td>0</td>\n",
       "      <td>6</td>\n",
       "      <td>0</td>\n",
       "      <td>2</td>\n",
       "      <td>0.344167</td>\n",
       "      <td>0.363625</td>\n",
       "      <td>0.805833</td>\n",
       "      <td>0.160446</td>\n",
       "      <td>985</td>\n",
       "    </tr>\n",
       "    <tr>\n",
       "      <th>1</th>\n",
       "      <td>2</td>\n",
       "      <td>1</td>\n",
       "      <td>1</td>\n",
       "      <td>0</td>\n",
       "      <td>1</td>\n",
       "      <td>0</td>\n",
       "      <td>0</td>\n",
       "      <td>0</td>\n",
       "      <td>2</td>\n",
       "      <td>0.363478</td>\n",
       "      <td>0.353739</td>\n",
       "      <td>0.696087</td>\n",
       "      <td>0.248539</td>\n",
       "      <td>801</td>\n",
       "    </tr>\n",
       "    <tr>\n",
       "      <th>2</th>\n",
       "      <td>3</td>\n",
       "      <td>2</td>\n",
       "      <td>1</td>\n",
       "      <td>0</td>\n",
       "      <td>1</td>\n",
       "      <td>0</td>\n",
       "      <td>1</td>\n",
       "      <td>1</td>\n",
       "      <td>1</td>\n",
       "      <td>0.196364</td>\n",
       "      <td>0.189405</td>\n",
       "      <td>0.437273</td>\n",
       "      <td>0.248309</td>\n",
       "      <td>1349</td>\n",
       "    </tr>\n",
       "    <tr>\n",
       "      <th>3</th>\n",
       "      <td>4</td>\n",
       "      <td>3</td>\n",
       "      <td>1</td>\n",
       "      <td>0</td>\n",
       "      <td>1</td>\n",
       "      <td>0</td>\n",
       "      <td>2</td>\n",
       "      <td>1</td>\n",
       "      <td>1</td>\n",
       "      <td>0.200000</td>\n",
       "      <td>0.212122</td>\n",
       "      <td>0.590435</td>\n",
       "      <td>0.160296</td>\n",
       "      <td>1562</td>\n",
       "    </tr>\n",
       "    <tr>\n",
       "      <th>4</th>\n",
       "      <td>5</td>\n",
       "      <td>4</td>\n",
       "      <td>1</td>\n",
       "      <td>0</td>\n",
       "      <td>1</td>\n",
       "      <td>0</td>\n",
       "      <td>3</td>\n",
       "      <td>1</td>\n",
       "      <td>1</td>\n",
       "      <td>0.226957</td>\n",
       "      <td>0.229270</td>\n",
       "      <td>0.436957</td>\n",
       "      <td>0.186900</td>\n",
       "      <td>1600</td>\n",
       "    </tr>\n",
       "  </tbody>\n",
       "</table>\n",
       "</div>"
      ],
      "text/plain": [
       "   instant  dteday  season  yr  mnth  holiday  weekday  workingday  \\\n",
       "0        1       0       1   0     1        0        6           0   \n",
       "1        2       1       1   0     1        0        0           0   \n",
       "2        3       2       1   0     1        0        1           1   \n",
       "3        4       3       1   0     1        0        2           1   \n",
       "4        5       4       1   0     1        0        3           1   \n",
       "\n",
       "   weathersit      temp     atemp       hum  windspeed   cnt  \n",
       "0           2  0.344167  0.363625  0.805833   0.160446   985  \n",
       "1           2  0.363478  0.353739  0.696087   0.248539   801  \n",
       "2           1  0.196364  0.189405  0.437273   0.248309  1349  \n",
       "3           1  0.200000  0.212122  0.590435   0.160296  1562  \n",
       "4           1  0.226957  0.229270  0.436957   0.186900  1600  "
      ]
     },
     "execution_count": 14,
     "metadata": {},
     "output_type": "execute_result"
    }
   ],
   "source": [
    "dailyData.drop(['casual', 'registered'], axis = 1).head()"
   ]
  },
  {
   "cell_type": "code",
   "execution_count": 15,
   "metadata": {},
   "outputs": [],
   "source": [
    "dailyData2 = dailyData.drop(['casual', 'registered'], axis = 1)"
   ]
  },
  {
   "cell_type": "code",
   "execution_count": 18,
   "metadata": {},
   "outputs": [],
   "source": [
    "# getting categorical data to numeric\n",
    "d, sortCorr = categoryToNum(dailyData2)\n",
    "# starting data with one X feature\n",
    "xdata = selectXFeats(1)"
   ]
  },
  {
   "cell_type": "code",
   "execution_count": 22,
   "metadata": {},
   "outputs": [
    {
     "name": "stdout",
     "output_type": "stream",
     "text": [
      "Train: \n",
      "Accuracy Rate: 98.63013698630137 % \n",
      "Factors used: ['atemp']\n"
     ]
    }
   ],
   "source": [
    "# runs everything\n",
    "dataSet(xdata, 0.8)"
   ]
  },
  {
   "cell_type": "code",
   "execution_count": null,
   "metadata": {},
   "outputs": [],
   "source": []
  },
  {
   "cell_type": "markdown",
   "metadata": {},
   "source": [
    "# Hourly Data"
   ]
  },
  {
   "cell_type": "code",
   "execution_count": 23,
   "metadata": {},
   "outputs": [],
   "source": [
    "hourlyData = pd.read_csv('C:/Users/Jenny/Desktop/UOP-MSDS/2020Spring/ANLT_210_SoftwareMethods/Bikeshare/Data/hourly.csv')"
   ]
  },
  {
   "cell_type": "code",
   "execution_count": 24,
   "metadata": {},
   "outputs": [],
   "source": [
    "hourlyData2 = hourlyData.drop(['casual', 'registered'], axis = 1)"
   ]
  },
  {
   "cell_type": "code",
   "execution_count": 25,
   "metadata": {},
   "outputs": [],
   "source": [
    "# getting categorical data to numeric\n",
    "d2, sortCorr2 = categoryToNum(hourlyData2)\n",
    "# starting data with one X feature\n",
    "xdata2 = selectXFeats(1)"
   ]
  },
  {
   "cell_type": "code",
   "execution_count": 26,
   "metadata": {},
   "outputs": [
    {
     "name": "stdout",
     "output_type": "stream",
     "text": [
      "Train: \n",
      "Accuracy Rate: 98.63013698630137 % \n",
      "Factors used: ['atemp']\n"
     ]
    }
   ],
   "source": [
    "# runs everything\n",
    "dataSet(xdata2, 0.8)"
   ]
  },
  {
   "cell_type": "markdown",
   "metadata": {},
   "source": [
    "## What Naive Bayes tells Us\n",
    "After runing Naive Bayes on both Daily and Hourly data set, 'atemp' shows that it predicts counts for total bike rentals with an accuracy rate of over 95%."
   ]
  },
  {
   "cell_type": "markdown",
   "metadata": {},
   "source": [
    "<font color = 'red'> Need to predict count of total bike rentals </font>"
   ]
  }
 ],
 "metadata": {
  "kernelspec": {
   "display_name": "Python 3",
   "language": "python",
   "name": "python3"
  },
  "language_info": {
   "codemirror_mode": {
    "name": "ipython",
    "version": 3
   },
   "file_extension": ".py",
   "mimetype": "text/x-python",
   "name": "python",
   "nbconvert_exporter": "python",
   "pygments_lexer": "ipython3",
   "version": "3.7.3"
  }
 },
 "nbformat": 4,
 "nbformat_minor": 2
}
